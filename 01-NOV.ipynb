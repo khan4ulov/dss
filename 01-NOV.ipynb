{
 "cells": [
  {
   "cell_type": "code",
   "execution_count": null,
   "id": "29b309c9",
   "metadata": {},
   "outputs": [],
   "source": [
    "def bill(x,y):\n",
    "    try:\n",
    "        total_bill=x+y\n",
    "        print(\"Total Bill is {}\".format(total_bill))\n",
    "    except Exception as e:\n",
    "        print(e)"
   ]
  },
  {
   "cell_type": "code",
   "execution_count": 11,
   "id": "97c2eeb9",
   "metadata": {},
   "outputs": [],
   "source": [
    "# WAP to ask the user to enter a number\n",
    "# Find the Sqare of the number\n",
    "# Approach -1 Write in normal \n",
    "# Approach -2 create a funtion and as the user to enter number\n",
    "# Aprroach 3 Create a funtion with arguments"
   ]
  },
  {
   "cell_type": "code",
   "execution_count": 9,
   "id": "0fc4b9b0",
   "metadata": {},
   "outputs": [
    {
     "name": "stdout",
     "output_type": "stream",
     "text": [
      "Enter a number :456\n",
      "207936\n"
     ]
    }
   ],
   "source": [
    "def sqrtn():\n",
    "    num = eval(input(\"Enter a number :\"))\n",
    "    print(num*num)\n",
    "sqrtn()"
   ]
  },
  {
   "cell_type": "code",
   "execution_count": null,
   "id": "1c6f09bc",
   "metadata": {},
   "outputs": [],
   "source": []
  },
  {
   "cell_type": "code",
   "execution_count": 10,
   "id": "bc860d13",
   "metadata": {},
   "outputs": [
    {
     "name": "stdout",
     "output_type": "stream",
     "text": [
      "25\n",
      "100\n",
      "can't multiply sequence by non-int of type 'str' \n",
      "Please Enter a Number\n"
     ]
    }
   ],
   "source": [
    "def sqrt(num=input(\"Enter a numer\")):\n",
    "    try:\n",
    "        print(num*num)\n",
    "    except Exception as e:\n",
    "        print(e,\"\\nPlease Enter a Number\" )\n",
    "sqrt(5)\n",
    "sqrt(10)\n",
    "sqrt(\"rt\")\n"
   ]
  },
  {
   "cell_type": "code",
   "execution_count": 16,
   "id": "ad1a70bf",
   "metadata": {},
   "outputs": [
    {
     "name": "stdout",
     "output_type": "stream",
     "text": [
      "Enter a numer45\n",
      "25\n"
     ]
    }
   ],
   "source": [
    "def sqrtt(num):\n",
    "    try:\n",
    "        print(num*num)\n",
    "    except Exception as e:\n",
    "        print(e,\"\\nPlease Enter a Number\" )\n",
    "sqrtt(5)"
   ]
  },
  {
   "cell_type": "code",
   "execution_count": 17,
   "id": "4bc24004",
   "metadata": {},
   "outputs": [
    {
     "name": "stdout",
     "output_type": "stream",
     "text": [
      "enter a number between 1 to 20:45\n",
      "You Lost\n",
      "random no is 6, You enterd a 45\n"
     ]
    }
   ],
   "source": [
    "#User enter the value without arguments\n",
    "import random\n",
    "n1=random.randint(0,20)\n",
    "n2=eval(input(\"enter a number between 1 to 20:\"))\n",
    "if n1==n2:\n",
    "    print(\"You Won\")\n",
    "    print(\"random no is {}, You enterd a {}\".format(n1,n2))\n",
    "else:\n",
    "    print(\"You Lost\")\n",
    "    print(\"random no is {}, You enterd a {}\".format(n1,n2)) \n",
    "\n"
   ]
  },
  {
   "cell_type": "code",
   "execution_count": 46,
   "id": "36397570",
   "metadata": {},
   "outputs": [
    {
     "name": "stdout",
     "output_type": "stream",
     "text": [
      "You Lost\n",
      "random no is 9, You enterd a 5\n"
     ]
    }
   ],
   "source": [
    "#USer enter the value in argument\n",
    "def lottery(n2):\n",
    "    n1=random.randint(0,20)\n",
    "    if n1==n2:\n",
    "        print(\"You Won\")\n",
    "    else:\n",
    "        print(\"You Lost\")\n",
    "        print(\"random no is {}, You enterd a {}\".format(n1,n2))\n",
    "lottery(5)"
   ]
  },
  {
   "cell_type": "code",
   "execution_count": 47,
   "id": "16a59487",
   "metadata": {},
   "outputs": [
    {
     "name": "stdout",
     "output_type": "stream",
     "text": [
      "Enter a number2\n",
      "You Lost\n",
      "random no is 11, You enterd a 2\n"
     ]
    }
   ],
   "source": [
    "#USer enter the value in argument by keyborad\n",
    "def lottery(n2):\n",
    "    n1=random.randint(0,20)\n",
    "    if n1==n2:\n",
    "        print(\"You Won\")\n",
    "    else:\n",
    "        print(\"You Lost\")\n",
    "        print(\"random no is {}, You enterd a {}\".format(n1,n2))\n",
    "lottery(eval(input(\"Enter a number\")))"
   ]
  },
  {
   "cell_type": "code",
   "execution_count": 48,
   "id": "46883c30",
   "metadata": {},
   "outputs": [
    {
     "name": "stdout",
     "output_type": "stream",
     "text": [
      "Enter a number3\n",
      "You Lost\n",
      "random no is 18, You enterd a 3\n"
     ]
    }
   ],
   "source": [
    "def lottery(n1,n2):\n",
    "    n1=random.randint(0,20)\n",
    "    if n1==n2:\n",
    "        print(\"You Won\")\n",
    "    else:\n",
    "        print(\"You Lost\")\n",
    "        print(\"random no is {}, You enterd a {}\".format(n1,n2))\n",
    "rndm=random.randint(0,20)\n",
    "lottery(rndm,eval(input(\"Enter a number\")))"
   ]
  },
  {
   "cell_type": "code",
   "execution_count": 62,
   "id": "8476d85c",
   "metadata": {},
   "outputs": [
    {
     "name": "stdout",
     "output_type": "stream",
     "text": [
      "You Won\n"
     ]
    }
   ],
   "source": [
    "def lottery(n1,n2):\n",
    "    n1=random.randint(0,20)\n",
    "    if n1==n2:\n",
    "        print(\"You Won\")\n",
    "    else:\n",
    "        print(\"You Lost\")\n",
    "        print(\"random no is {}, You enterd a {}\".format(n1,n2))\n",
    "lottery(random.randint(0,20),7)"
   ]
  },
  {
   "cell_type": "code",
   "execution_count": null,
   "id": "023b6b34",
   "metadata": {},
   "outputs": [],
   "source": [
    "def lottery(n1,n2):\n",
    "    n1=random.randint(0,20)\n",
    "    if n1==n2:\n",
    "        print(\"You Won\")\n",
    "    else:\n",
    "        print(\"You Lost\")\n",
    "        print(\"random no is {}, You enterd a {}\".format(n1,n2))\n",
    "lottery(random.randint(0,20),eval(input(\"Enter a number\")))"
   ]
  },
  {
   "cell_type": "code",
   "execution_count": null,
   "id": "9d63a776",
   "metadata": {},
   "outputs": [],
   "source": [
    "#WAP ask the user enter salary\n",
    "#Wap ask the user to enter tax percentage\n",
    "# calculate tax to pay"
   ]
  },
  {
   "cell_type": "code",
   "execution_count": 63,
   "id": "941cdaa9",
   "metadata": {},
   "outputs": [
    {
     "name": "stdout",
     "output_type": "stream",
     "text": [
      "Enter Your Salary :1200000\n",
      "Enter Your Tax Percentage :20\n",
      "You have to 240000.0\n"
     ]
    }
   ],
   "source": [
    "salary=eval(input(\"Enter Your Salary :\"))\n",
    "tax=eval(input(\"Enter Your Tax Percentage :\"))\n",
    "tax_pay=(salary*tax)/100\n",
    "print(\"You have to {}\".format(tax_pay))"
   ]
  },
  {
   "cell_type": "code",
   "execution_count": 67,
   "id": "6dc63eaa",
   "metadata": {},
   "outputs": [
    {
     "name": "stdout",
     "output_type": "stream",
     "text": [
      "Enter Your Salary :345\n",
      "Enter Your Tax Percentage :34\n",
      "You have to 345 34 117.3\n"
     ]
    }
   ],
   "source": [
    "def tax_calc():\n",
    "    salary=eval(input(\"Enter Your Salary :\"))\n",
    "    tax=eval(input(\"Enter Your Tax Percentage :\"))\n",
    "    tax_pay=(salary*tax)/100\n",
    "    print(\"You have to  {}\".format(tax_pay))\n",
    "    \n",
    "tax_calc()"
   ]
  },
  {
   "cell_type": "code",
   "execution_count": 65,
   "id": "6cca74ea",
   "metadata": {},
   "outputs": [
    {
     "name": "stdout",
     "output_type": "stream",
     "text": [
      "Enter Your Salary :1223\n",
      "Enter Your Tax Percentage :2\n",
      "You have to 24.46\n"
     ]
    }
   ],
   "source": [
    "def tax_calc(salary,tax):\n",
    "    tax_pay=(salary*tax)/100\n",
    "    print(\"You have to {}\".format(tax_pay))\n",
    "tax_calc(eval(input(\"Enter Your Salary :\")),eval(input(\"Enter Your Tax Percentage :\")))"
   ]
  },
  {
   "cell_type": "code",
   "execution_count": 68,
   "id": "fd4cfd79",
   "metadata": {},
   "outputs": [
    {
     "name": "stdout",
     "output_type": "stream",
     "text": [
      "Enter Your Salary :12345\n",
      "You have to 2469.0\n"
     ]
    }
   ],
   "source": [
    "def tax_calc(salary):\n",
    "    tax_pay=(salary*20)/100\n",
    "    print(\"You have to {}\".format(tax_pay))\n",
    "tax_calc(eval(input(\"Enter Your Salary :\")))"
   ]
  },
  {
   "cell_type": "code",
   "execution_count": 69,
   "id": "ba54f50b",
   "metadata": {},
   "outputs": [
    {
     "name": "stdout",
     "output_type": "stream",
     "text": [
      "Enter Your Salary :1000\n",
      "You have to 200.0\n"
     ]
    }
   ],
   "source": [
    "def tax_calc(salary,tax=20):                             #Defualt Aruguments or defalut parameters\n",
    "    tax_pay=(salary*tax)/100\n",
    "    print(\"You have to {}\".format(tax_pay))\n",
    "val1=eval(input(\"Enter Your Salary :\"))\n",
    "tax_calc(val1)                                           "
   ]
  },
  {
   "cell_type": "code",
   "execution_count": 79,
   "id": "0d91562c",
   "metadata": {},
   "outputs": [
    {
     "name": "stdout",
     "output_type": "stream",
     "text": [
      "20\n",
      "20\n",
      "20\n",
      "The avg is  20.0\n",
      "25\n",
      "35\n",
      "60\n",
      "The avg is  40.0\n"
     ]
    }
   ],
   "source": [
    "def avg(num1=25,num2=35,num3=60):\n",
    "    print(num1)\n",
    "    print(num2)\n",
    "    print(num3)\n",
    "    print(\"The avg is \",round((num1+num2+num3)/3,2))\n",
    "    \n",
    "avg(20,20,20)\n",
    "avg()"
   ]
  },
  {
   "cell_type": "code",
   "execution_count": 81,
   "id": "7836596d",
   "metadata": {},
   "outputs": [
    {
     "name": "stdout",
     "output_type": "stream",
     "text": [
      "100 20 30\n"
     ]
    }
   ],
   "source": [
    "num1,num2,num3=100,20,30\n",
    "print(num1,num2,num3)"
   ]
  },
  {
   "cell_type": "code",
   "execution_count": 85,
   "id": "dd2ed40d",
   "metadata": {},
   "outputs": [
    {
     "ename": "SyntaxError",
     "evalue": "non-default argument follows default argument (2852903675.py, line 1)",
     "output_type": "error",
     "traceback": [
      "\u001b[1;36m  Cell \u001b[1;32mIn[85], line 1\u001b[1;36m\u001b[0m\n\u001b[1;33m    def avg(num1,num2=35,num3):\u001b[0m\n\u001b[1;37m                         ^\u001b[0m\n\u001b[1;31mSyntaxError\u001b[0m\u001b[1;31m:\u001b[0m non-default argument follows default argument\n"
     ]
    }
   ],
   "source": [
    "def avg(num1,num2=35,num3):      #This order will fail \n",
    "    print(num1)                  #you have prove defulat arugemnts in the last\n",
    "    print(num2)\n",
    "    print(num3)\n",
    "    print(\"The avg is \",round((num1+num2+num3)/3,2))\n",
    "    \n",
    "avg(20,20)\n",
    "avg()"
   ]
  },
  {
   "cell_type": "code",
   "execution_count": 88,
   "id": "c09aac5c",
   "metadata": {},
   "outputs": [
    {
     "name": "stdout",
     "output_type": "stream",
     "text": [
      "20\n",
      "20\n",
      "20\n",
      "The avg is  20.0\n"
     ]
    }
   ],
   "source": [
    "def avg(num1,num2,num3):      #This order will fail \n",
    "    print(num1)                  #you have prove defulat arugemnts in the last\n",
    "    print(num2)\n",
    "    num3=20\n",
    "    print(num3)\n",
    "    \n",
    "    print(\"The avg is \",round((num1+num2+num3)/3,2))\n",
    "    \n",
    "avg(20,20,num3)"
   ]
  },
  {
   "cell_type": "markdown",
   "id": "c183c96f",
   "metadata": {},
   "source": [
    "- without arguments\n",
    "- with arguments\n",
    "- default arguments"
   ]
  },
  {
   "cell_type": "code",
   "execution_count": 103,
   "id": "152404ef",
   "metadata": {},
   "outputs": [
    {
     "ename": "TypeError",
     "evalue": "Random.randint() missing 2 required positional arguments: 'a' and 'b'",
     "output_type": "error",
     "traceback": [
      "\u001b[1;31m---------------------------------------------------------------------------\u001b[0m",
      "\u001b[1;31mTypeError\u001b[0m                                 Traceback (most recent call last)",
      "Cell \u001b[1;32mIn[103], line 2\u001b[0m\n\u001b[0;32m      1\u001b[0m \u001b[38;5;28;01mfrom\u001b[39;00m \u001b[38;5;21;01mrandom\u001b[39;00m \u001b[38;5;28;01mimport\u001b[39;00m randint \u001b[38;5;28;01mas\u001b[39;00m rr\n\u001b[1;32m----> 2\u001b[0m rr()\n",
      "\u001b[1;31mTypeError\u001b[0m: Random.randint() missing 2 required positional arguments: 'a' and 'b'"
     ]
    }
   ],
   "source": [
    "from random import randint as rr\n",
    "rr()"
   ]
  },
  {
   "cell_type": "code",
   "execution_count": 104,
   "id": "7ae17ddc",
   "metadata": {},
   "outputs": [
    {
     "data": {
      "text/plain": [
       "45"
      ]
     },
     "execution_count": 104,
     "metadata": {},
     "output_type": "execute_result"
    }
   ],
   "source": [
    "import random\n",
    "random.randint(0,100)"
   ]
  },
  {
   "cell_type": "code",
   "execution_count": 105,
   "id": "16e23d85",
   "metadata": {},
   "outputs": [
    {
     "ename": "TypeError",
     "evalue": "Random.randint() missing 2 required positional arguments: 'a' and 'b'",
     "output_type": "error",
     "traceback": [
      "\u001b[1;31m---------------------------------------------------------------------------\u001b[0m",
      "\u001b[1;31mTypeError\u001b[0m                                 Traceback (most recent call last)",
      "Cell \u001b[1;32mIn[105], line 1\u001b[0m\n\u001b[1;32m----> 1\u001b[0m random\u001b[38;5;241m.\u001b[39mrandint()\n",
      "\u001b[1;31mTypeError\u001b[0m: Random.randint() missing 2 required positional arguments: 'a' and 'b'"
     ]
    }
   ],
   "source": [
    "random.randint()                   #Without arguments it will get error"
   ]
  },
  {
   "cell_type": "code",
   "execution_count": null,
   "id": "201cc3d1",
   "metadata": {},
   "outputs": [],
   "source": [
    "complex()                        ##Without argument it will 0 by default"
   ]
  },
  {
   "cell_type": "code",
   "execution_count": 102,
   "id": "e79b99f5",
   "metadata": {},
   "outputs": [
    {
     "data": {
      "text/plain": [
       "(1+0j)"
      ]
     },
     "execution_count": 102,
     "metadata": {},
     "output_type": "execute_result"
    }
   ],
   "source": [
    "complex(1)                            "
   ]
  },
  {
   "cell_type": "code",
   "execution_count": null,
   "id": "59215cb1",
   "metadata": {},
   "outputs": [],
   "source": []
  },
  {
   "cell_type": "code",
   "execution_count": null,
   "id": "11f93be7",
   "metadata": {},
   "outputs": [],
   "source": []
  },
  {
   "cell_type": "code",
   "execution_count": null,
   "id": "214f0e8e",
   "metadata": {},
   "outputs": [],
   "source": []
  },
  {
   "cell_type": "code",
   "execution_count": null,
   "id": "cd780eaa",
   "metadata": {},
   "outputs": [],
   "source": []
  },
  {
   "cell_type": "code",
   "execution_count": null,
   "id": "bca70c10",
   "metadata": {},
   "outputs": [],
   "source": []
  }
 ],
 "metadata": {
  "kernelspec": {
   "display_name": "Python 3 (ipykernel)",
   "language": "python",
   "name": "python3"
  },
  "language_info": {
   "codemirror_mode": {
    "name": "ipython",
    "version": 3
   },
   "file_extension": ".py",
   "mimetype": "text/x-python",
   "name": "python",
   "nbconvert_exporter": "python",
   "pygments_lexer": "ipython3",
   "version": "3.11.5"
  }
 },
 "nbformat": 4,
 "nbformat_minor": 5
}

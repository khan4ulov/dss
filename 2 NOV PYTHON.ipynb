{
 "cells": [
  {
   "cell_type": "code",
   "execution_count": null,
   "id": "12a27ca9",
   "metadata": {},
   "outputs": [],
   "source": [
    "#wap ASK THE USER TO FIND AREA OF CIRCLE\n",
    "#basic method\n",
    "#with out aurguments\n",
    "#with arguments\n",
    "#default arguments\n"
   ]
  },
  {
   "cell_type": "code",
   "execution_count": 9,
   "id": "ef80e088",
   "metadata": {},
   "outputs": [
    {
     "name": "stdout",
     "output_type": "stream",
     "text": [
      "enter the radius of circle :10\n",
      "Area of circle is 314.16\n"
     ]
    }
   ],
   "source": [
    "r = eval(input(\"enter the radius of circle :\"))\n",
    "import math\n",
    "\n",
    "area= math.pi*r*r\n",
    "print(\"Area of circle is\",round(area,2))"
   ]
  },
  {
   "cell_type": "code",
   "execution_count": 15,
   "id": "8bd57ca9",
   "metadata": {},
   "outputs": [
    {
     "name": "stdout",
     "output_type": "stream",
     "text": [
      "enter the radius of circle :10\n",
      "Area of circle is 314.16\n"
     ]
    }
   ],
   "source": [
    "def area1():\n",
    "    r = eval(input(\"enter the radius of circle :\"))\n",
    "    area= math.pi*r*r\n",
    "    print(\"Area of circle is\",round(area,2))\n",
    "    \n",
    "area1()"
   ]
  },
  {
   "cell_type": "code",
   "execution_count": 11,
   "id": "0c300d02",
   "metadata": {},
   "outputs": [
    {
     "name": "stdout",
     "output_type": "stream",
     "text": [
      "Area of circle is 1256.64\n"
     ]
    }
   ],
   "source": [
    "def area3(radius):\n",
    "    area= math.pi*radius*radius\n",
    "    print(\"Area of circle is\",round(area,2))\n",
    "area3(20)    "
   ]
  },
  {
   "cell_type": "code",
   "execution_count": 14,
   "id": "e7db6f9b",
   "metadata": {},
   "outputs": [
    {
     "name": "stdout",
     "output_type": "stream",
     "text": [
      "Area of circle is 2827.43\n"
     ]
    }
   ],
   "source": [
    "def area4(radius=30):\n",
    "    area=math.pi*radius*radius\n",
    "    print(\"Area of circle is\",round(area,2))\n",
    "area4()    "
   ]
  },
  {
   "cell_type": "code",
   "execution_count": 13,
   "id": "0697ed20",
   "metadata": {},
   "outputs": [
    {
     "name": "stdout",
     "output_type": "stream",
     "text": [
      "enter the radius of circle :40\n",
      "Area of circle is 5026.55\n"
     ]
    }
   ],
   "source": [
    "def area5(radius):\n",
    "    area=math.pi*radius*radius\n",
    "    print(\"Area of circle is\",round(area,2))\n",
    "radius= eval(input(\"enter the radius of circle :\"))\n",
    "area4(radius)   "
   ]
  },
  {
   "cell_type": "code",
   "execution_count": 16,
   "id": "b8f28bcc",
   "metadata": {},
   "outputs": [
    {
     "data": {
      "text/plain": [
       "314.1592653589793"
      ]
     },
     "execution_count": 16,
     "metadata": {},
     "output_type": "execute_result"
    }
   ],
   "source": [
    "area"
   ]
  },
  {
   "cell_type": "code",
   "execution_count": 20,
   "id": "278b10e8",
   "metadata": {},
   "outputs": [
    {
     "name": "stdout",
     "output_type": "stream",
     "text": [
      "en20\n",
      "1256.6370614359173\n"
     ]
    }
   ],
   "source": [
    "from math import pi as pi\n",
    "r =  eval(input(\"en\"))\n",
    "a = pi*r*r\n",
    "print(a)"
   ]
  },
  {
   "cell_type": "markdown",
   "id": "8376167f",
   "metadata": {},
   "source": [
    "### Return funtion"
   ]
  },
  {
   "cell_type": "code",
   "execution_count": 24,
   "id": "950a5186",
   "metadata": {},
   "outputs": [
    {
     "name": "stdout",
     "output_type": "stream",
     "text": [
      "enter the radius of circle :20\n",
      "Area of circle is 1256.64\n"
     ]
    },
    {
     "data": {
      "text/plain": [
       "1256.64"
      ]
     },
     "execution_count": 24,
     "metadata": {},
     "output_type": "execute_result"
    }
   ],
   "source": [
    "def area_circle():\n",
    "    r = eval(input(\"enter the radius of circle :\"))\n",
    "    area11= round(math.pi*r*r,2)\n",
    "    print(\"Area of circle is\",(area11))\n",
    "    return (area11)\n",
    "area_circle()"
   ]
  },
  {
   "cell_type": "code",
   "execution_count": 25,
   "id": "317d3ece",
   "metadata": {},
   "outputs": [
    {
     "name": "stdout",
     "output_type": "stream",
     "text": [
      "enter the radius of circle :34\n",
      "Area of circle is 3631.68\n"
     ]
    }
   ],
   "source": [
    "ar = area_circle()"
   ]
  },
  {
   "cell_type": "code",
   "execution_count": 30,
   "id": "ca4740a6",
   "metadata": {},
   "outputs": [
    {
     "name": "stdout",
     "output_type": "stream",
     "text": [
      "enter the radius of circle :30\n",
      "Area of circle is 2827.433\n"
     ]
    },
    {
     "data": {
      "text/plain": [
       "(2827.433, 3.141592653589793)"
      ]
     },
     "execution_count": 30,
     "metadata": {},
     "output_type": "execute_result"
    }
   ],
   "source": [
    "def area_circle():\n",
    "    r = eval(input(\"enter the radius of circle :\"))\n",
    "    pii=math.pi\n",
    "    area11= round(pii*r*r,3)\n",
    "    print(\"Area of circle is\",(area11))\n",
    "    return (area11,pii)\n",
    "area_circle()"
   ]
  },
  {
   "cell_type": "code",
   "execution_count": 31,
   "id": "8072f34b",
   "metadata": {},
   "outputs": [
    {
     "name": "stdout",
     "output_type": "stream",
     "text": [
      "enter the radius of circle :20\n",
      "Area of circle is 1256.637\n"
     ]
    }
   ],
   "source": [
    "ac,Pi=area_circle()"
   ]
  },
  {
   "cell_type": "code",
   "execution_count": 32,
   "id": "f3086f56",
   "metadata": {},
   "outputs": [
    {
     "name": "stdout",
     "output_type": "stream",
     "text": [
      "1256.637\n",
      "3.141592653589793\n"
     ]
    }
   ],
   "source": [
    "print(ac)\n",
    "print(Pi)"
   ]
  },
  {
   "cell_type": "code",
   "execution_count": 35,
   "id": "37b7fca5",
   "metadata": {},
   "outputs": [],
   "source": [
    "def avrg():\n",
    "    n1 = eval(input(\"enter the number 1:\"))\n",
    "    n2 = eval(input(\"enter the number 2:\"))\n",
    "    n3 = eval(input(\"enter the number 3:\"))\n",
    "    add = n1+n2+n3\n",
    "    avg = round(add/3,2)\n",
    "    return(add,avg)"
   ]
  },
  {
   "cell_type": "code",
   "execution_count": 37,
   "id": "088f2165",
   "metadata": {},
   "outputs": [
    {
     "name": "stdout",
     "output_type": "stream",
     "text": [
      "enter the number 1:30\n",
      "enter the number 2:20\n",
      "enter the number 3:30\n",
      "80\n",
      "26.67\n"
     ]
    }
   ],
   "source": [
    "x,y=avrg()\n",
    "print(x)\n",
    "print(y)"
   ]
  },
  {
   "cell_type": "code",
   "execution_count": null,
   "id": "593652e7",
   "metadata": {},
   "outputs": [],
   "source": [
    "def avrg(n1,n2,n3):\n",
    "    add = n1+n2+n3\n",
    "    avg = round(add/3,2)\n",
    "    print(\"sum :\" add)\n",
    "    print(\"Average\",avg)\n",
    "    return(add,avg)\n"
   ]
  },
  {
   "cell_type": "code",
   "execution_count": null,
   "id": "2669fb67",
   "metadata": {},
   "outputs": [],
   "source": [
    "def avrg(10,20,30):\n",
    "    add = n1+n2+n3\n",
    "    avg = round(add/3,2)\n",
    "    print(\"sum :\" add)\n",
    "    print(\"Average\",avg)\n",
    "    return(add,avg)\n"
   ]
  },
  {
   "cell_type": "code",
   "execution_count": null,
   "id": "c1ee085a",
   "metadata": {},
   "outputs": [],
   "source": [
    "#Find the biggest number\n",
    "#Take three numbers\n",
    "#and find the biggest number\n",
    "#and return that number\n",
    "\n"
   ]
  },
  {
   "cell_type": "code",
   "execution_count": 38,
   "id": "f11f544b",
   "metadata": {},
   "outputs": [
    {
     "name": "stdout",
     "output_type": "stream",
     "text": [
      "enter the number 1:20\n",
      "enter the number 2:39\n",
      "enter the number 3:40\n",
      "Number 3 is the biggest number :  40\n"
     ]
    }
   ],
   "source": [
    "num1  = eval(input(\"enter the number 1:\"))\n",
    "num2 = eval(input(\"enter the number 2:\"))\n",
    "num3 = eval(input(\"enter the number 3:\"))\n",
    "if num1>num2 and num1>3:\n",
    "    print(\"Number 1 is the biggest number : \",num1)\n",
    "elif num2>num3:\n",
    "    print(\"Number 2 is the biggest number : \",num2)\n",
    "else:\n",
    "    print(\"Number 3 is the biggest number : \",num3)\n"
   ]
  },
  {
   "cell_type": "code",
   "execution_count": 39,
   "id": "f71b10f9",
   "metadata": {},
   "outputs": [
    {
     "name": "stdout",
     "output_type": "stream",
     "text": [
      "Number 3 is the biggest number :  40\n",
      "41\n"
     ]
    }
   ],
   "source": [
    "def greator(n1,n2,n3):\n",
    "    if num1>num2 and num1>3:\n",
    "        print(\"Number 1 is the biggest number : \",num1)\n",
    "        return(n1)\n",
    "    elif num2>num3:\n",
    "        print(\"Number 2 is the biggest number : \",num2)\n",
    "        return(n2)\n",
    "    else:\n",
    "        print(\"Number 3 is the biggest number : \",num3)\n",
    "        return(n3)\n",
    "a=greator(20,40,41)\n",
    "print(a)"
   ]
  },
  {
   "cell_type": "code",
   "execution_count": 42,
   "id": "fa3f47df",
   "metadata": {},
   "outputs": [
    {
     "name": "stdout",
     "output_type": "stream",
     "text": [
      "enter the number 1:45\n",
      "enter the number 2:64\n",
      "enter the number 3:24\n",
      "Number 2 is the biggest number :  64\n"
     ]
    }
   ],
   "source": [
    "def grtr():\n",
    "    num1  = eval(input(\"enter the number 1:\"))\n",
    "    num2 = eval(input(\"enter the number 2:\"))\n",
    "    num3 = eval(input(\"enter the number 3:\"))\n",
    "    if num1>num2 and num1>3:\n",
    "        print(\"Number 1 is the biggest number : \",num1)\n",
    "        return(num1)\n",
    "    elif num2>num3:\n",
    "        print(\"Number 2 is the biggest number : \",num2)\n",
    "        return(num2)\n",
    "    else:\n",
    "        print(\"Number 3 is the biggest number : \",num3)\n",
    "        return(num3)\n",
    "ab=grtr()"
   ]
  },
  {
   "cell_type": "code",
   "execution_count": 43,
   "id": "aed200f8",
   "metadata": {},
   "outputs": [
    {
     "name": "stdout",
     "output_type": "stream",
     "text": [
      "64\n"
     ]
    }
   ],
   "source": [
    "print(ab)"
   ]
  },
  {
   "cell_type": "code",
   "execution_count": 44,
   "id": "d8bc5f8e",
   "metadata": {},
   "outputs": [],
   "source": [
    "def practice(a,b):\n",
    "    return((a+b),(a*b),(a/b),(a-b))\n",
    "add,mul,div,sub=practice(20,30)"
   ]
  },
  {
   "cell_type": "code",
   "execution_count": 46,
   "id": "ff561142",
   "metadata": {},
   "outputs": [
    {
     "name": "stdout",
     "output_type": "stream",
     "text": [
      "Addition is 50, Multiplication is 600, Division is 0.67, Substraction is -10\n"
     ]
    }
   ],
   "source": [
    "print(\"Addition is {}, Multiplication is {}, Division is {}, Substraction is {}\".format(add,mul,round(div,2),sub))\n"
   ]
  },
  {
   "cell_type": "code",
   "execution_count": 47,
   "id": "d5731f9f",
   "metadata": {},
   "outputs": [],
   "source": [
    "def practicel(a,b):\n",
    "    return((a+b),(a*b),(a/b),(a-b))\n",
    "ass=practicel(20,30)"
   ]
  },
  {
   "cell_type": "code",
   "execution_count": 48,
   "id": "f392dd04",
   "metadata": {},
   "outputs": [
    {
     "name": "stdout",
     "output_type": "stream",
     "text": [
      "(50, 600, 0.6666666666666666, -10)\n"
     ]
    }
   ],
   "source": [
    "print(ass)"
   ]
  },
  {
   "cell_type": "code",
   "execution_count": 2,
   "id": "b16162ab",
   "metadata": {},
   "outputs": [],
   "source": [
    "def practicel(a,b):return((a+b),(a*b),(a/b),(a-b))\n",
    "ass=practicel(20,30)"
   ]
  },
  {
   "cell_type": "code",
   "execution_count": 3,
   "id": "245bb17f",
   "metadata": {},
   "outputs": [
    {
     "name": "stdout",
     "output_type": "stream",
     "text": [
      "(50, 600, 0.6666666666666666, -10)\n"
     ]
    }
   ],
   "source": [
    "print(ass)"
   ]
  },
  {
   "cell_type": "code",
   "execution_count": null,
   "id": "83629a70",
   "metadata": {},
   "outputs": [],
   "source": []
  }
 ],
 "metadata": {
  "kernelspec": {
   "display_name": "Python 3 (ipykernel)",
   "language": "python",
   "name": "python3"
  },
  "language_info": {
   "codemirror_mode": {
    "name": "ipython",
    "version": 3
   },
   "file_extension": ".py",
   "mimetype": "text/x-python",
   "name": "python",
   "nbconvert_exporter": "python",
   "pygments_lexer": "ipython3",
   "version": "3.11.5"
  }
 },
 "nbformat": 4,
 "nbformat_minor": 5
}

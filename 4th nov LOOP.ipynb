{
 "cells": [
  {
   "cell_type": "markdown",
   "id": "a89d71fc",
   "metadata": {},
   "source": [
    "# Loop"
   ]
  },
  {
   "cell_type": "markdown",
   "id": "cb0e6be1",
   "metadata": {},
   "source": [
    "$For$ $While$"
   ]
  },
  {
   "cell_type": "markdown",
   "id": "bff6709f",
   "metadata": {},
   "source": [
    "**For Loop**  \n",
    "    - you willbe in the loop  \n",
    "    - when you will enter into the loop  \n",
    "    - intializtion  \n",
    "    - increament  \n",
    "    - decrase ment  \n",
    "    - - condition to stop the loop  "
   ]
  },
  {
   "cell_type": "code",
   "execution_count": null,
   "id": "b54c949a",
   "metadata": {},
   "outputs": [],
   "source": [
    "# i want to print first 10 number"
   ]
  },
  {
   "cell_type": "markdown",
   "id": "76825ff4",
   "metadata": {},
   "source": [
    "# pattern 1"
   ]
  },
  {
   "cell_type": "markdown",
   "id": "40772909",
   "metadata": {},
   "source": [
    "for i in range(stop_value):\n",
    "    -in the bracket if we have only 1 value considered as stop value  \n",
    "    - in the defualt start value is 0  \n",
    "    - python index start with 0  \n",
    "    - if direction side is not mentioned : increament (+) sign  \n",
    "    - if dirction is positive side then end value=stop-1"
   ]
  },
  {
   "cell_type": "code",
   "execution_count": 4,
   "id": "1e7c5547",
   "metadata": {},
   "outputs": [],
   "source": [
    "for i in range(-10):\n",
    "    print(i)\n",
    "# Positive value\n",
    "    #Starting value 0\n",
    "#Diretion 1\n",
    "# end = stop -1 = 9"
   ]
  },
  {
   "cell_type": "code",
   "execution_count": 7,
   "id": "d32dd9e0",
   "metadata": {},
   "outputs": [
    {
     "name": "stdout",
     "output_type": "stream",
     "text": [
      "-10\n",
      "-9\n",
      "-8\n",
      "-7\n",
      "-6\n",
      "-5\n",
      "-4\n",
      "-3\n",
      "-2\n",
      "-1\n",
      "0\n",
      "1\n",
      "2\n",
      "3\n",
      "4\n",
      "5\n",
      "6\n",
      "7\n",
      "8\n",
      "9\n"
     ]
    }
   ],
   "source": [
    "for i in range(-10,10):\n",
    "    print(i)"
   ]
  },
  {
   "cell_type": "code",
   "execution_count": 15,
   "id": "fd7359fe",
   "metadata": {},
   "outputs": [
    {
     "name": "stdout",
     "output_type": "stream",
     "text": [
      "-10 -9 -8 -7 -6 -5 -4 -3 -2 -1 "
     ]
    }
   ],
   "source": [
    "#Pattern 2\n",
    "#= start and stop value\n",
    "for a in range(-10,0):\n",
    "    print(a,end=\" \")"
   ]
  },
  {
   "cell_type": "code",
   "execution_count": 16,
   "id": "92dabfdb",
   "metadata": {},
   "outputs": [
    {
     "name": "stdout",
     "output_type": "stream",
     "text": [
      "30 31 32 33 34 35 36 37 38 39 "
     ]
    }
   ],
   "source": [
    "\n",
    "for a in range(30,40):\n",
    "    print(a,end=\" \")"
   ]
  },
  {
   "cell_type": "markdown",
   "id": "a6ace93a",
   "metadata": {},
   "source": [
    "# Patter 3\n",
    "- for i in range(start,stop,step)\n",
    "- Direction: what is step value, that is direction  \n",
    "  -  direction will not decide by start and stop value\n",
    "  -  direcction will provide by step value\n",
    "  - if direction i spositve\n",
    "  - end = stop- 1\n",
    "  - if direction is negative\n",
    "  - end = stop+1"
   ]
  },
  {
   "cell_type": "code",
   "execution_count": 17,
   "id": "c8a5e79d",
   "metadata": {},
   "outputs": [
    {
     "name": "stdout",
     "output_type": "stream",
     "text": [
      "2\n",
      "6\n",
      "10\n",
      "14\n",
      "18\n",
      "22\n",
      "26\n",
      "30\n",
      "34\n",
      "38\n"
     ]
    }
   ],
   "source": [
    "for i in range(2,40,4):\n",
    "    print(i)"
   ]
  },
  {
   "cell_type": "code",
   "execution_count": 18,
   "id": "b1f61df6",
   "metadata": {},
   "outputs": [
    {
     "name": "stdout",
     "output_type": "stream",
     "text": [
      "2 6 10 14 18 22 26 30 34 38 "
     ]
    }
   ],
   "source": [
    "for i in range(2,40,4):\n",
    "    print(i,end=\" \")"
   ]
  },
  {
   "cell_type": "markdown",
   "id": "0a649896",
   "metadata": {},
   "source": [
    "#### Write a program that asks the user to enter a number and prints out all the divisors of that number.\n",
    "[Hint: the % operator is used to tell if a number is divisible by something."
   ]
  },
  {
   "cell_type": "code",
   "execution_count": 28,
   "id": "e5211cff",
   "metadata": {},
   "outputs": [
    {
     "name": "stdout",
     "output_type": "stream",
     "text": [
      "Enter a number: 46\n",
      "1 2 23 46 "
     ]
    }
   ],
   "source": [
    "num = eval(input(\"Enter a number: \"))\n",
    "\n",
    "for i in range(1, num + 1,):\n",
    "    if num % i == 0:\n",
    "        print(i,end=\" \")\n",
    "    else:\n",
    "        print(end=\"\")"
   ]
  },
  {
   "cell_type": "code",
   "execution_count": null,
   "id": "772f1a38",
   "metadata": {},
   "outputs": [],
   "source": []
  },
  {
   "cell_type": "code",
   "execution_count": null,
   "id": "8e3d2227",
   "metadata": {},
   "outputs": [],
   "source": []
  },
  {
   "cell_type": "code",
   "execution_count": null,
   "id": "c73749bb",
   "metadata": {},
   "outputs": [],
   "source": []
  },
  {
   "cell_type": "code",
   "execution_count": null,
   "id": "24bc6b12",
   "metadata": {},
   "outputs": [],
   "source": []
  },
  {
   "cell_type": "code",
   "execution_count": null,
   "id": "9dd1afac",
   "metadata": {},
   "outputs": [],
   "source": []
  },
  {
   "cell_type": "code",
   "execution_count": null,
   "id": "b2331889",
   "metadata": {},
   "outputs": [],
   "source": []
  },
  {
   "cell_type": "code",
   "execution_count": null,
   "id": "c03f77f3",
   "metadata": {},
   "outputs": [],
   "source": []
  },
  {
   "cell_type": "code",
   "execution_count": null,
   "id": "181d445f",
   "metadata": {},
   "outputs": [],
   "source": []
  }
 ],
 "metadata": {
  "kernelspec": {
   "display_name": "Python 3 (ipykernel)",
   "language": "python",
   "name": "python3"
  },
  "language_info": {
   "codemirror_mode": {
    "name": "ipython",
    "version": 3
   },
   "file_extension": ".py",
   "mimetype": "text/x-python",
   "name": "python",
   "nbconvert_exporter": "python",
   "pygments_lexer": "ipython3",
   "version": "3.11.5"
  }
 },
 "nbformat": 4,
 "nbformat_minor": 5
}

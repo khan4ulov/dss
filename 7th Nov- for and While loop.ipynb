{
 "cells": [
  {
   "cell_type": "markdown",
   "id": "a6ebffe9",
   "metadata": {},
   "source": [
    "### Wap ask the user the sum of 10 natural number"
   ]
  },
  {
   "cell_type": "code",
   "execution_count": 51,
   "id": "3410d518",
   "metadata": {},
   "outputs": [
    {
     "name": "stdout",
     "output_type": "stream",
     "text": [
      "Enter a value 10\n",
      "1\n",
      "3\n",
      "6\n",
      "10\n",
      "15\n",
      "21\n",
      "28\n",
      "36\n",
      "45\n",
      "55\n",
      "The sum of first 10 natural numbers is 55\n"
     ]
    }
   ],
   "source": [
    "summ = 0\n",
    "n=eval(input(\"Enter a value \"))\n",
    "for i in range(1,n+1):\n",
    "    summ = summ+i         #2          #\n",
    "    print(summ)            #3\n",
    "print(\"The sum of first\",i, \"natural numbers is\",summ)"
   ]
  },
  {
   "cell_type": "markdown",
   "id": "f292168c",
   "metadata": {},
   "source": [
    "- whenever if you implemnet counter program\n",
    "- summ program\n",
    "- like sume = 0 or count=0\n",
    "- inside the loop based on the problem update the variable\n",
    "- like summ=summ+i\n",
    "- "
   ]
  },
  {
   "cell_type": "code",
   "execution_count": 43,
   "id": "a88dff26",
   "metadata": {},
   "outputs": [
    {
     "name": "stdout",
     "output_type": "stream",
     "text": [
      "The given num is 15 is odd number\n",
      "The given num is 14 is even number\n",
      "The given num is 18 is even number\n",
      "The given num is 29 is odd number\n",
      "The given num is 14 is even number\n",
      "The odd of number of count is  2\n",
      "The even number of count is  3\n"
     ]
    }
   ],
   "source": [
    "import random\n",
    "even_count = 0\n",
    "odd_count = 0\n",
    "for i in range(5):\n",
    "    num=random.randint(10,30)\n",
    "    if num%2==0:\n",
    "        print(\"The given num is {} is even number\".format(num))\n",
    "        even_count=even_count+1\n",
    "    else:\n",
    "        print(\"The given num is {} is odd number\".format(num))\n",
    "        odd_count=odd_count+1\n",
    "print(\"The odd of number of count is \",odd_count)\n",
    "print(\"The even number of count is \", even_count)"
   ]
  },
  {
   "cell_type": "code",
   "execution_count": 55,
   "id": "79c6921a",
   "metadata": {},
   "outputs": [
    {
     "name": "stdout",
     "output_type": "stream",
     "text": [
      "86 21 28 71 27 53 62 96 79 77 \n",
      "The number of more than fifty count is  7\n"
     ]
    }
   ],
   "source": [
    "#WAP ask the user take a random number bw 1 to 99 \n",
    "#irrtrate the loop 10 time \n",
    "#count how many times number is comming grator than 50\n",
    "import random\n",
    "fifty_count=0\n",
    "for i in range(10):\n",
    "    n=random.randint(1,99)\n",
    "    if n>=50:\n",
    "        fifty_count=fifty_count+1\n",
    "        print(n,end=\" \")\n",
    "    else:\n",
    "        print(n,end=\" \")\n",
    "print(\"\\nThe number of more than fifty count is \",fifty_count)"
   ]
  },
  {
   "cell_type": "code",
   "execution_count": 75,
   "id": "35f22726",
   "metadata": {},
   "outputs": [
    {
     "name": "stdout",
     "output_type": "stream",
     "text": [
      "enter a number 787\n",
      "Number 787 is divisible by 1\n",
      "Number 787 is divisible by 787\n",
      "The number of divisor are  2\n",
      "The number of non divisor count is  785\n"
     ]
    }
   ],
   "source": [
    "#Num of divisor program\n",
    "#10 is divisible by what numbers\n",
    "d_count=0\n",
    "nd_count=0\n",
    "n=eval(input(\"enter a number \"))\n",
    "for i in range(1,n+1):\n",
    "    if n%i==0:\n",
    "        print(\"Number {} is divisible by {}\".format(n,i))\n",
    "        d_count=d_count+1\n",
    "    else:\n",
    "        nd_count=nd_count+1\n",
    "print(\"The number of divisor are \", d_count)\n",
    "print(\"The number of non divisor count is \", nd_count)"
   ]
  },
  {
   "cell_type": "code",
   "execution_count": 82,
   "id": "2718babf",
   "metadata": {},
   "outputs": [],
   "source": [
    "def dev():\n",
    "    d_count=0\n",
    "    nd_count=0\n",
    "    n=eval(input(\"enter a number \"))\n",
    "    for i in range(1,n+1):\n",
    "        if n%i==0:\n",
    "            print(\"Number {} is divisible by {}\".format(n,i))\n",
    "            d_count=d_count+1\n",
    "        else:\n",
    "            nd_count=nd_count+1\n",
    "    return(d_count,nd_count)\n",
    "    print(\"The number of divisor are \", d_count)\n",
    "    print(\"The number of non divisor count is \", nd_count)"
   ]
  },
  {
   "cell_type": "code",
   "execution_count": 83,
   "id": "68c0e0fe",
   "metadata": {},
   "outputs": [
    {
     "name": "stdout",
     "output_type": "stream",
     "text": [
      "enter a number 10\n",
      "Number 10 is divisible by 1\n",
      "Number 10 is divisible by 2\n",
      "Number 10 is divisible by 5\n",
      "Number 10 is divisible by 10\n"
     ]
    },
    {
     "data": {
      "text/plain": [
       "(4, 6)"
      ]
     },
     "execution_count": 83,
     "metadata": {},
     "output_type": "execute_result"
    }
   ],
   "source": [
    "dev()"
   ]
  },
  {
   "cell_type": "code",
   "execution_count": 84,
   "id": "8feb38c2",
   "metadata": {},
   "outputs": [
    {
     "name": "stdout",
     "output_type": "stream",
     "text": [
      "enter a number 10\n",
      "Number 10 is divisible by 1\n",
      "Number 10 is divisible by 2\n",
      "Number 10 is divisible by 5\n",
      "Number 10 is divisible by 10\n"
     ]
    }
   ],
   "source": [
    "d,nd=dev()"
   ]
  },
  {
   "cell_type": "code",
   "execution_count": 86,
   "id": "78946d39",
   "metadata": {},
   "outputs": [
    {
     "name": "stdout",
     "output_type": "stream",
     "text": [
      "4\n",
      "6\n"
     ]
    }
   ],
   "source": [
    "print(d)\n",
    "print(nd)"
   ]
  },
  {
   "cell_type": "code",
   "execution_count": null,
   "id": "4fe2860e",
   "metadata": {},
   "outputs": [],
   "source": []
  },
  {
   "cell_type": "code",
   "execution_count": null,
   "id": "c8af0b43",
   "metadata": {},
   "outputs": [],
   "source": []
  },
  {
   "cell_type": "code",
   "execution_count": 113,
   "id": "71c3a769",
   "metadata": {},
   "outputs": [],
   "source": [
    "def condition(n,i,d_count,nd_count):\n",
    "    if n%i==0:\n",
    "        d_count=d_count+1\n",
    "        print(\"Number {} is divisible by {}\".format(n,i))\n",
    "    else:\n",
    "        nd_count=nd_count+1\n",
    "    return(d_count,nd_count)\n",
    "    "
   ]
  },
  {
   "cell_type": "code",
   "execution_count": 118,
   "id": "86a09f75",
   "metadata": {},
   "outputs": [
    {
     "name": "stdout",
     "output_type": "stream",
     "text": [
      "enter a number 34\n",
      "Number 34 is divisible by 1\n",
      "Number 34 is divisible by 2\n",
      "Number 34 is divisible by 17\n",
      "Number 34 is divisible by 34\n"
     ]
    }
   ],
   "source": [
    "def divv():\n",
    "    d_count=0\n",
    "    nd_count=0\n",
    "    n=eval(input(\"enter a number \"))\n",
    "    for i in range(1,n+1):\n",
    "        dd,ndd=condition(n,i,d_count,nd_count)\n",
    "    return(dd,ndd)\n",
    "v1,v2=divv()"
   ]
  },
  {
   "cell_type": "code",
   "execution_count": 117,
   "id": "a3e978b2",
   "metadata": {},
   "outputs": [
    {
     "data": {
      "text/plain": [
       "1"
      ]
     },
     "execution_count": 117,
     "metadata": {},
     "output_type": "execute_result"
    }
   ],
   "source": [
    "v1"
   ]
  },
  {
   "cell_type": "code",
   "execution_count": 116,
   "id": "83a185d0",
   "metadata": {},
   "outputs": [
    {
     "data": {
      "text/plain": [
       "0"
      ]
     },
     "execution_count": 116,
     "metadata": {},
     "output_type": "execute_result"
    }
   ],
   "source": [
    "v2"
   ]
  },
  {
   "cell_type": "code",
   "execution_count": 127,
   "id": "25ac78dc",
   "metadata": {},
   "outputs": [
    {
     "name": "stdout",
     "output_type": "stream",
     "text": [
      "Enter number 6\n",
      "wi\n"
     ]
    }
   ],
   "source": [
    "i=eval(input(\"Enter number \"))\n",
    "if i%2==0 and 2<=i<=5:\n",
    "    print(\"weird\")\n",
    "elif i%2==0 and i>=6:\n",
    "    print(\"wi\")"
   ]
  },
  {
   "cell_type": "code",
   "execution_count": 128,
   "id": "a4b3f466",
   "metadata": {},
   "outputs": [
    {
     "data": {
      "text/plain": [
       "1"
      ]
     },
     "execution_count": 128,
     "metadata": {},
     "output_type": "execute_result"
    }
   ],
   "source": [
    "12//12"
   ]
  },
  {
   "cell_type": "code",
   "execution_count": 129,
   "id": "5d9d9238",
   "metadata": {},
   "outputs": [
    {
     "data": {
      "text/plain": [
       "1"
      ]
     },
     "execution_count": 129,
     "metadata": {},
     "output_type": "execute_result"
    }
   ],
   "source": [
    "1%2"
   ]
  },
  {
   "cell_type": "code",
   "execution_count": 143,
   "id": "4da7c8e1",
   "metadata": {},
   "outputs": [
    {
     "name": "stdout",
     "output_type": "stream",
     "text": [
      "['one, two, three, four, five']\n"
     ]
    }
   ],
   "source": [
    "text = \"one, two, three, four, five\"\n",
    "items = text.split(sep=\"__\")\n",
    "print(items)"
   ]
  },
  {
   "cell_type": "code",
   "execution_count": 145,
   "id": "56558222",
   "metadata": {},
   "outputs": [
    {
     "name": "stdout",
     "output_type": "stream",
     "text": [
      "apple Khan banana Khan orange Khan grape\n"
     ]
    }
   ],
   "source": []
  },
  {
   "cell_type": "code",
   "execution_count": null,
   "id": "5eabfff8",
   "metadata": {},
   "outputs": [],
   "source": []
  }
 ],
 "metadata": {
  "kernelspec": {
   "display_name": "Python 3 (ipykernel)",
   "language": "python",
   "name": "python3"
  },
  "language_info": {
   "codemirror_mode": {
    "name": "ipython",
    "version": 3
   },
   "file_extension": ".py",
   "mimetype": "text/x-python",
   "name": "python",
   "nbconvert_exporter": "python",
   "pygments_lexer": "ipython3",
   "version": "3.11.5"
  }
 },
 "nbformat": 4,
 "nbformat_minor": 5
}

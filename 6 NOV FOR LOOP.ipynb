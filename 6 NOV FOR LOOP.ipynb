{
 "cells": [
  {
   "cell_type": "code",
   "execution_count": 1,
   "id": "c45914f6",
   "metadata": {},
   "outputs": [],
   "source": [
    "#wAP PRINT: HELLOW THREE TIMES"
   ]
  },
  {
   "cell_type": "code",
   "execution_count": 3,
   "id": "8841bd37",
   "metadata": {},
   "outputs": [
    {
     "name": "stdout",
     "output_type": "stream",
     "text": [
      "Hello\n",
      "Hello\n",
      "Hello\n"
     ]
    }
   ],
   "source": [
    "for i in range(0,3):\n",
    "    i=\"Hello\"\n",
    "    print(i)"
   ]
  },
  {
   "cell_type": "code",
   "execution_count": 5,
   "id": "eac7cd61",
   "metadata": {},
   "outputs": [
    {
     "name": "stdout",
     "output_type": "stream",
     "text": [
      "hello\n",
      "hello\n",
      "hello\n"
     ]
    }
   ],
   "source": [
    "for i in range(1,4):\n",
    "    print('hello')"
   ]
  },
  {
   "cell_type": "code",
   "execution_count": 6,
   "id": "e72287ef",
   "metadata": {},
   "outputs": [
    {
     "name": "stdout",
     "output_type": "stream",
     "text": [
      "hi\n",
      "hello\n",
      "hello\n",
      "hello\n",
      "How are you\n"
     ]
    }
   ],
   "source": [
    "print('hi')\n",
    "for i in range (3):\n",
    "    print('hello')\n",
    "print(\"How are you\")"
   ]
  },
  {
   "cell_type": "code",
   "execution_count": 9,
   "id": "d84857a2",
   "metadata": {},
   "outputs": [
    {
     "name": "stdout",
     "output_type": "stream",
     "text": [
      "A\n",
      "B\n",
      "A\n",
      "B\n",
      "A\n",
      "B\n",
      "C\n",
      "C\n",
      "C\n"
     ]
    }
   ],
   "source": [
    "for i in range (3):\n",
    "    print('A')\n",
    "    print('B')\n",
    "for i in range (3):\n",
    "    print('C')"
   ]
  },
  {
   "cell_type": "code",
   "execution_count": 11,
   "id": "95fe769d",
   "metadata": {},
   "outputs": [
    {
     "name": "stdout",
     "output_type": "stream",
     "text": [
      "sqaure of 10 is 100\n",
      "sqaure of 11 is 121\n",
      "sqaure of 12 is 144\n",
      "sqaure of 13 is 169\n",
      "sqaure of 14 is 196\n",
      "sqaure of 15 is 225\n"
     ]
    }
   ],
   "source": [
    "#WAP ask the user get the sqaure of the number between 10 to 15\n",
    "for i in range(10,16):\n",
    "    print(\"sqaure of {} is {}\".format(i,i*i))"
   ]
  },
  {
   "cell_type": "code",
   "execution_count": 13,
   "id": "dd6b6f49",
   "metadata": {},
   "outputs": [
    {
     "name": "stdout",
     "output_type": "stream",
     "text": [
      "enter the starting you want a sqaure :10\n",
      "enter the End no  you want a sqaure :15\n",
      "sqaure of 10 is 100\n",
      "sqaure of 11 is 121\n",
      "sqaure of 12 is 144\n",
      "sqaure of 13 is 169\n",
      "sqaure of 14 is 196\n",
      "sqaure of 15 is 225\n"
     ]
    }
   ],
   "source": [
    "#WAP ask the user get the sqaure of the number take input from user\n",
    "n1 = eval(input(\"enter the starting you want a sqaure :\"))\n",
    "n2 = eval(input(\"enter the End no  you want a sqaure :\"))\n",
    "for i in range(n1,n2+1):\n",
    "    print(\"sqaure of {} is {}\".format(i,i*i))"
   ]
  },
  {
   "cell_type": "code",
   "execution_count": 20,
   "id": "52caf8e7",
   "metadata": {},
   "outputs": [
    {
     "name": "stdout",
     "output_type": "stream",
     "text": [
      "enter the starting you want a sqaure :23\n",
      "enter the End no  you want a sqaure :34\n",
      "sqaure of 23 is 529\n",
      "sqaure of 24 is 576\n",
      "sqaure of 25 is 625\n",
      "sqaure of 26 is 676\n",
      "sqaure of 27 is 729\n",
      "sqaure of 28 is 784\n",
      "sqaure of 29 is 841\n",
      "sqaure of 30 is 900\n",
      "sqaure of 31 is 961\n",
      "sqaure of 32 is 1024\n",
      "sqaure of 33 is 1089\n",
      "sqaure of 34 is 1156\n",
      "enter the starting you want a sqaure :34\n",
      "enter the End no  you want a sqaure :34\n",
      "sqaure of 34 is 1156\n"
     ]
    }
   ],
   "source": [
    "#WAP ask the user get the sqaure of the number take input from user\n",
    "def square1():\n",
    "    n1 = eval(input(\"enter the starting you want a sqaure :\"))\n",
    "    n2 = eval(input(\"enter the End no  you want a sqaure :\"))\n",
    "    for i in range(n1,n2+1):\n",
    "        print(\"sqaure of {} is {}\".format(i,i*i))\n",
    "square1()\n",
    "square()"
   ]
  },
  {
   "cell_type": "code",
   "execution_count": 19,
   "id": "22e92405",
   "metadata": {},
   "outputs": [
    {
     "ename": "NameError",
     "evalue": "name 'sqaure' is not defined",
     "output_type": "error",
     "traceback": [
      "\u001b[1;31m---------------------------------------------------------------------------\u001b[0m",
      "\u001b[1;31mNameError\u001b[0m                                 Traceback (most recent call last)",
      "Cell \u001b[1;32mIn[19], line 1\u001b[0m\n\u001b[1;32m----> 1\u001b[0m sqaure()\n",
      "\u001b[1;31mNameError\u001b[0m: name 'sqaure' is not defined"
     ]
    }
   ],
   "source": []
  },
  {
   "cell_type": "code",
   "execution_count": 27,
   "id": "6588a64c",
   "metadata": {},
   "outputs": [
    {
     "name": "stdout",
     "output_type": "stream",
     "text": [
      "sqaure of 22 is 484\n",
      "sqaure of 23 is 529\n"
     ]
    }
   ],
   "source": [
    "def square2(n1,n2):\n",
    "    for i in range(n1,n2+1):\n",
    "        print(\"sqaure of {} is {}\".format(i,i*i))\n",
    "square2(22,23)"
   ]
  },
  {
   "cell_type": "code",
   "execution_count": null,
   "id": "8e6ca49d",
   "metadata": {},
   "outputs": [],
   "source": [
    "#WAP ask the user to print sqaure of the 5 no \n",
    "#And these five no you need to us user every time"
   ]
  },
  {
   "cell_type": "code",
   "execution_count": 29,
   "id": "89d72939",
   "metadata": {},
   "outputs": [
    {
     "name": "stdout",
     "output_type": "stream",
     "text": [
      "enter the number you want a sqaure :3\n",
      "sqaure of 3 is 9\n",
      "enter the number you want a sqaure :5\n",
      "sqaure of 5 is 25\n",
      "enter the number you want a sqaure :8\n",
      "sqaure of 8 is 64\n",
      "enter the number you want a sqaure :9\n",
      "sqaure of 9 is 81\n",
      "enter the number you want a sqaure :3\n",
      "sqaure of 3 is 9\n"
     ]
    }
   ],
   "source": [
    "for i in range(5):\n",
    "    a = eval(input(\"enter the number you want a sqaure :\"))\n",
    "    print(\"sqaure of {} is {}\".format(a,a*a))"
   ]
  },
  {
   "cell_type": "code",
   "execution_count": null,
   "id": "ecb1f881",
   "metadata": {},
   "outputs": [],
   "source": [
    "#WAP ask the user to print 5 times sqare of a number \n",
    "#this tin=me you need to take every time random number form 1 to 30"
   ]
  },
  {
   "cell_type": "code",
   "execution_count": 30,
   "id": "57ffbbac",
   "metadata": {},
   "outputs": [
    {
     "name": "stdout",
     "output_type": "stream",
     "text": [
      "sqaure of 28 is 784\n",
      "sqaure of 25 is 625\n",
      "sqaure of 10 is 100\n",
      "sqaure of 28 is 784\n",
      "sqaure of 14 is 196\n"
     ]
    }
   ],
   "source": [
    "import random\n",
    "for i in range(5):\n",
    "    a = random.randint(1,30)\n",
    "    print(\"sqaure of {} is {}\".format(a,a*a))"
   ]
  },
  {
   "cell_type": "code",
   "execution_count": 34,
   "id": "777bbd8d",
   "metadata": {},
   "outputs": [],
   "source": [
    "from random import randint\n",
    "def square3():\n",
    "    for i in range(5):\n",
    "        a = randint(0,30)\n",
    "        print(\"sqaure of {} is {}\".format(a,a*a))"
   ]
  },
  {
   "cell_type": "code",
   "execution_count": 35,
   "id": "7a03a0eb",
   "metadata": {},
   "outputs": [
    {
     "name": "stdout",
     "output_type": "stream",
     "text": [
      "sqaure of 6 is 36\n",
      "sqaure of 20 is 400\n",
      "sqaure of 0 is 0\n",
      "sqaure of 23 is 529\n",
      "sqaure of 26 is 676\n"
     ]
    }
   ],
   "source": [
    "square3()"
   ]
  },
  {
   "cell_type": "code",
   "execution_count": null,
   "id": "7b24025b",
   "metadata": {},
   "outputs": [],
   "source": [
    "#WAp ask the user print given numb is even or odd from 10 to 30"
   ]
  },
  {
   "cell_type": "code",
   "execution_count": 55,
   "id": "7bf4dc65",
   "metadata": {},
   "outputs": [
    {
     "ename": "IndentationError",
     "evalue": "expected an indented block after 'if' statement on line 3 (159087973.py, line 4)",
     "output_type": "error",
     "traceback": [
      "\u001b[1;36m  Cell \u001b[1;32mIn[55], line 4\u001b[1;36m\u001b[0m\n\u001b[1;33m    print(i, \"is even number\")\u001b[0m\n\u001b[1;37m    ^\u001b[0m\n\u001b[1;31mIndentationError\u001b[0m\u001b[1;31m:\u001b[0m expected an indented block after 'if' statement on line 3\n"
     ]
    }
   ],
   "source": [
    "def even_odd1(a):\n",
    "    for i in range(10,31):\n",
    "        if i%2==0:\n",
    "            print(i, \"is even number\")\n",
    "        else:\n",
    "        print(i,\"is odd number\" )"
   ]
  },
  {
   "cell_type": "code",
   "execution_count": null,
   "id": "94613c1f",
   "metadata": {},
   "outputs": [],
   "source": []
  },
  {
   "cell_type": "code",
   "execution_count": 48,
   "id": "1383a38d",
   "metadata": {},
   "outputs": [],
   "source": [
    "def odd_even():\n",
    "    for i in range(10):\n",
    "        a=random.randint(10,30)\n",
    "        "
   ]
  },
  {
   "cell_type": "code",
   "execution_count": 53,
   "id": "a2cc70c4",
   "metadata": {},
   "outputs": [
    {
     "name": "stdout",
     "output_type": "stream",
     "text": [
      "22 is even number\n",
      "14 is even number\n",
      "20 is even number\n",
      "28 is even number\n",
      "11 is odd number\n",
      "24 is even number\n",
      "21 is odd number\n",
      "10 is even number\n",
      "16 is even number\n",
      "20 is even number\n"
     ]
    }
   ],
   "source": [
    "odd_even()"
   ]
  },
  {
   "cell_type": "code",
   "execution_count": null,
   "id": "00d62674",
   "metadata": {},
   "outputs": [],
   "source": [
    "#write a 5 line of code\n",
    "#take a random number between (1,10)\n",
    "#ask the user enter a number between 1 to 10\n",
    "#if the number == random no print you won\n",
    "#if not print you lost\n",
    "#user have three chanses"
   ]
  },
  {
   "cell_type": "code",
   "execution_count": 72,
   "id": "54890c38",
   "metadata": {},
   "outputs": [
    {
     "name": "stdout",
     "output_type": "stream",
     "text": [
      "3\n",
      "Enter a number 4\n",
      "You lost\n",
      "Enter a number 3\n",
      "You Won\n",
      "Enter a number 3\n",
      "You Won\n"
     ]
    }
   ],
   "source": [
    "import random\n",
    "a = random.randint(1,10)\n",
    "print(a)\n",
    "for i in range(3):\n",
    "    b = eval(input(\"Enter a number \"))\n",
    "    if a==b:\n",
    "        print(\"You Won\")\n",
    "        break\n",
    "    else:\n",
    "        print(\"You lost\")"
   ]
  },
  {
   "cell_type": "code",
   "execution_count": 76,
   "id": "5579c546",
   "metadata": {},
   "outputs": [
    {
     "name": "stdout",
     "output_type": "stream",
     "text": [
      "Enter a number 4\n",
      "You lost The number of chanses left is 2\n",
      "Enter a number 7\n",
      "You lost The number of chanses left is 1\n",
      "Enter a number 2\n",
      "You lost The number of chanses left is 0\n"
     ]
    }
   ],
   "source": [
    "import random\n",
    "a = random.randint(1,10)\n",
    "for i in range(3):\n",
    "    b = eval(input(\"Enter a number \"))\n",
    "    if a==b:\n",
    "        print(\"You Won\")\n",
    "        break\n",
    "    else:\n",
    "        print(\"You lost The number of chanses left is\", 3-1-i)"
   ]
  },
  {
   "cell_type": "code",
   "execution_count": 92,
   "id": "89c1f45a",
   "metadata": {},
   "outputs": [
    {
     "name": "stdout",
     "output_type": "stream",
     "text": [
      "Enter no of chanses :3\n",
      "3\n",
      "Enter a number 4\n",
      "You lost The number of chanses left is 2\n",
      "Enter a number 5\n",
      "You lost The number of chanses left is 1\n",
      "Enter a number 5\n",
      "please try again you all chanses all over\n"
     ]
    }
   ],
   "source": [
    "import random\n",
    "a = random.randint(1,10)\n",
    "chances = eval(input(\"Enter no of chanses :\"))\n",
    "print(a)\n",
    "for i in range(chances):\n",
    "    b = eval(input(\"Enter a number \"))\n",
    "    if a==b:\n",
    "        print(\"You Won\")\n",
    "        break\n",
    "    elif chances-1-i==0:\n",
    "        print(\"please try again you all chanses all over\" )\n",
    "    else:\n",
    "        print(\"You lost The number of chanses left is\", chances-1-i)"
   ]
  },
  {
   "cell_type": "code",
   "execution_count": null,
   "id": "e6fba64f",
   "metadata": {},
   "outputs": [],
   "source": []
  },
  {
   "cell_type": "code",
   "execution_count": null,
   "id": "ede57ee8",
   "metadata": {},
   "outputs": [],
   "source": []
  },
  {
   "cell_type": "code",
   "execution_count": null,
   "id": "135607a4",
   "metadata": {},
   "outputs": [],
   "source": []
  },
  {
   "cell_type": "code",
   "execution_count": null,
   "id": "8279b259",
   "metadata": {},
   "outputs": [],
   "source": []
  },
  {
   "cell_type": "code",
   "execution_count": null,
   "id": "9823879d",
   "metadata": {},
   "outputs": [],
   "source": []
  },
  {
   "cell_type": "code",
   "execution_count": null,
   "id": "b96e951f",
   "metadata": {},
   "outputs": [],
   "source": []
  },
  {
   "cell_type": "code",
   "execution_count": null,
   "id": "c122751f",
   "metadata": {},
   "outputs": [],
   "source": []
  },
  {
   "cell_type": "code",
   "execution_count": null,
   "id": "1c19fd46",
   "metadata": {},
   "outputs": [],
   "source": []
  },
  {
   "cell_type": "code",
   "execution_count": null,
   "id": "e3ba01cc",
   "metadata": {},
   "outputs": [],
   "source": []
  },
  {
   "cell_type": "code",
   "execution_count": null,
   "id": "7aa9a155",
   "metadata": {},
   "outputs": [],
   "source": []
  },
  {
   "cell_type": "code",
   "execution_count": null,
   "id": "5ecd6f39",
   "metadata": {},
   "outputs": [],
   "source": []
  },
  {
   "cell_type": "code",
   "execution_count": null,
   "id": "7d1fd969",
   "metadata": {},
   "outputs": [],
   "source": []
  },
  {
   "cell_type": "code",
   "execution_count": null,
   "id": "70346c02",
   "metadata": {},
   "outputs": [],
   "source": []
  },
  {
   "cell_type": "code",
   "execution_count": null,
   "id": "d9c8c479",
   "metadata": {},
   "outputs": [],
   "source": []
  },
  {
   "cell_type": "code",
   "execution_count": null,
   "id": "4e2088a5",
   "metadata": {},
   "outputs": [],
   "source": []
  }
 ],
 "metadata": {
  "kernelspec": {
   "display_name": "Python 3 (ipykernel)",
   "language": "python",
   "name": "python3"
  },
  "language_info": {
   "codemirror_mode": {
    "name": "ipython",
    "version": 3
   },
   "file_extension": ".py",
   "mimetype": "text/x-python",
   "name": "python",
   "nbconvert_exporter": "python",
   "pygments_lexer": "ipython3",
   "version": "3.11.5"
  }
 },
 "nbformat": 4,
 "nbformat_minor": 5
}

{
 "cells": [
  {
   "cell_type": "code",
   "execution_count": 5,
   "id": "d5f16696",
   "metadata": {},
   "outputs": [
    {
     "name": "stdout",
     "output_type": "stream",
     "text": [
      "p\n",
      "y\n",
      "h\n",
      "t\n",
      "o\n",
      "n\n"
     ]
    }
   ],
   "source": [
    "\n",
    "-6   -5    -4  -3   -2   -1\n",
    "p    y      t   h    o    n\n",
    "1    2      3   4    5    6"
   ]
  },
  {
   "cell_type": "code",
   "execution_count": 6,
   "id": "9a8bbb0f",
   "metadata": {},
   "outputs": [
    {
     "name": "stdout",
     "output_type": "stream",
     "text": [
      "p\n",
      "y\n",
      "h\n",
      "t\n",
      "o\n",
      "n\n"
     ]
    }
   ],
   "source": [
    "string1=\"pyhton\"\n",
    "for i in range(-6,0,1):\n",
    "    print(string1[i])\n",
    "    "
   ]
  },
  {
   "cell_type": "code",
   "execution_count": 7,
   "id": "498e9b63",
   "metadata": {},
   "outputs": [],
   "source": [
    "string1=\"how are you\""
   ]
  },
  {
   "cell_type": "code",
   "execution_count": 22,
   "id": "7d06271f",
   "metadata": {},
   "outputs": [
    {
     "ename": "SyntaxError",
     "evalue": "incomplete input (1141470484.py, line 1)",
     "output_type": "error",
     "traceback": [
      "\u001b[1;36m  Cell \u001b[1;32mIn[22], line 1\u001b[1;36m\u001b[0m\n\u001b[1;33m    for i in range(len(string1)):\u001b[0m\n\u001b[1;37m                                 ^\u001b[0m\n\u001b[1;31mSyntaxError\u001b[0m\u001b[1;31m:\u001b[0m incomplete input\n"
     ]
    }
   ],
   "source": []
  },
  {
   "cell_type": "code",
   "execution_count": 16,
   "id": "328cb870",
   "metadata": {},
   "outputs": [
    {
     "data": {
      "text/plain": [
       "11"
      ]
     },
     "execution_count": 16,
     "metadata": {},
     "output_type": "execute_result"
    }
   ],
   "source": [
    "len(string1)"
   ]
  },
  {
   "cell_type": "code",
   "execution_count": 30,
   "id": "6d6d7e05",
   "metadata": {},
   "outputs": [
    {
     "name": "stdout",
     "output_type": "stream",
     "text": [
      "the positive index is 0 and negative index is -6 for p\n",
      "the positive index is 1 and negative index is -5 for y\n",
      "the positive index is 2 and negative index is -4 for t\n",
      "the positive index is 3 and negative index is -3 for h\n",
      "the positive index is 4 and negative index is -2 for o\n",
      "the positive index is 5 and negative index is -1 for n\n"
     ]
    }
   ],
   "source": [
    "string2='python'\n",
    "for i in range(len(string2)):\n",
    "    print(\"the positive index is {} and negative index is {} for {}\".format(i,i-6,string2[i]))"
   ]
  },
  {
   "cell_type": "code",
   "execution_count": 29,
   "id": "262f4095",
   "metadata": {},
   "outputs": [
    {
     "name": "stdout",
     "output_type": "stream",
     "text": [
      "the positive index is 0 and negative index is -6 for p\n",
      "the positive index is 1 and negative index is -5 for y\n",
      "the positive index is 2 and negative index is -4 for t\n",
      "the positive index is 3 and negative index is -3 for h\n",
      "the positive index is 4 and negative index is -2 for o\n",
      "the positive index is 5 and negative index is -1 for n\n"
     ]
    }
   ],
   "source": [
    "string2='python'\n",
    "for i in range(-len(string2),0):\n",
    "    print(\"the positive index is {} and negative index is {} for {}\".format(i+6,i,string2[i]))"
   ]
  },
  {
   "cell_type": "code",
   "execution_count": 34,
   "id": "20f04dec",
   "metadata": {},
   "outputs": [
    {
     "name": "stdout",
     "output_type": "stream",
     "text": [
      "p\n",
      "y\n",
      "t\n",
      "h\n",
      "o\n",
      "n\n"
     ]
    }
   ],
   "source": [
    "string2='python'\n",
    "i = 0\n",
    "while len(string2)>0:\n",
    "    print(string2[i])\n",
    "    i+=1\n",
    "    if i == len(string2):\n",
    "        break"
   ]
  },
  {
   "cell_type": "code",
   "execution_count": 37,
   "id": "66983551",
   "metadata": {},
   "outputs": [
    {
     "name": "stdout",
     "output_type": "stream",
     "text": [
      "p\n",
      "y\n",
      "t\n",
      "h\n",
      "o\n",
      "n\n"
     ]
    },
    {
     "ename": "IndexError",
     "evalue": "string index out of range",
     "output_type": "error",
     "traceback": [
      "\u001b[1;31m---------------------------------------------------------------------------\u001b[0m",
      "\u001b[1;31mIndexError\u001b[0m                                Traceback (most recent call last)",
      "Cell \u001b[1;32mIn[37], line 4\u001b[0m\n\u001b[0;32m      2\u001b[0m i \u001b[38;5;241m=\u001b[39m \u001b[38;5;241m0\u001b[39m\n\u001b[0;32m      3\u001b[0m \u001b[38;5;28;01mwhile\u001b[39;00m \u001b[38;5;28mlen\u001b[39m(string3)\u001b[38;5;241m>\u001b[39m\u001b[38;5;241m=\u001b[39m\u001b[38;5;28mlen\u001b[39m(string3):\n\u001b[1;32m----> 4\u001b[0m     \u001b[38;5;28mprint\u001b[39m(string3[i])\n\u001b[0;32m      5\u001b[0m     i\u001b[38;5;241m+\u001b[39m\u001b[38;5;241m=\u001b[39m\u001b[38;5;241m1\u001b[39m\n",
      "\u001b[1;31mIndexError\u001b[0m: string index out of range"
     ]
    }
   ],
   "source": [
    "string3='python'\n",
    "i = 0\n",
    "while len(string3)>=len(string3):\n",
    "    print(string3[i])\n",
    "    i+=1\n",
    "    if i == len(string):\n",
    "        break"
   ]
  },
  {
   "cell_type": "code",
   "execution_count": 39,
   "id": "4dd30be1",
   "metadata": {},
   "outputs": [
    {
     "name": "stdout",
     "output_type": "stream",
     "text": [
      "the positive index is 0 and negative index is -6 for p\n",
      "the positive index is 1 and negative index is -5 for y\n",
      "the positive index is 2 and negative index is -4 for t\n",
      "the positive index is 3 and negative index is -3 for h\n",
      "the positive index is 4 and negative index is -2 for o\n",
      "the positive index is 5 and negative index is -1 for n\n"
     ]
    }
   ],
   "source": [
    "string4='python'\n",
    "i = 0\n",
    "while len(string4)>0:\n",
    "    print(\"the positive index is {} and negative index is {} for {}\".format(i,i-6,string2[i]))\n",
    "    i = i+1\n",
    "    if i==len(string4):\n",
    "        break"
   ]
  },
  {
   "cell_type": "code",
   "execution_count": 40,
   "id": "704fd285",
   "metadata": {},
   "outputs": [
    {
     "data": {
      "text/plain": [
       "6"
      ]
     },
     "execution_count": 40,
     "metadata": {},
     "output_type": "execute_result"
    }
   ],
   "source": [
    "len(string4)"
   ]
  },
  {
   "cell_type": "code",
   "execution_count": 44,
   "id": "9992262f",
   "metadata": {},
   "outputs": [
    {
     "name": "stdout",
     "output_type": "stream",
     "text": [
      "2\n"
     ]
    }
   ],
   "source": [
    "string5 = \"Hai how are you \"\n",
    "count = 0\n",
    "vo=\"aeiou\"\n",
    "nw=\" \"\n",
    "for i in range(len(string5)):\n",
    "    if string5[i]=='a':\n",
    "        count=count+1\n",
    "print(count)\n",
    "        "
   ]
  },
  {
   "cell_type": "markdown",
   "id": "bd331e64",
   "metadata": {},
   "source": [
    "***Mutable and immutable concept***  \n",
    "mutable=========we can change  \n",
    "immutable=======We can not change  \n",
    "**string is immutable** \n"
   ]
  },
  {
   "cell_type": "code",
   "execution_count": 45,
   "id": "055fd8b6",
   "metadata": {},
   "outputs": [
    {
     "ename": "TypeError",
     "evalue": "'str' object does not support item assignment",
     "output_type": "error",
     "traceback": [
      "\u001b[1;31m---------------------------------------------------------------------------\u001b[0m",
      "\u001b[1;31mTypeError\u001b[0m                                 Traceback (most recent call last)",
      "Cell \u001b[1;32mIn[45], line 4\u001b[0m\n\u001b[0;32m      1\u001b[0m string1\u001b[38;5;241m=\u001b[39m\u001b[38;5;124m'\u001b[39m\u001b[38;5;124mpython\u001b[39m\u001b[38;5;124m'\u001b[39m\n\u001b[0;32m      2\u001b[0m \u001b[38;5;66;03m# i Want to change --------p ==========P\u001b[39;00m\n\u001b[0;32m      3\u001b[0m \u001b[38;5;66;03m#o/p:  'Python\u001b[39;00m\n\u001b[1;32m----> 4\u001b[0m string1[\u001b[38;5;241m0\u001b[39m]\u001b[38;5;241m=\u001b[39m\u001b[38;5;124m'\u001b[39m\u001b[38;5;124mP\u001b[39m\u001b[38;5;124m'\u001b[39m\n",
      "\u001b[1;31mTypeError\u001b[0m: 'str' object does not support item assignment"
     ]
    }
   ],
   "source": [
    "string1='python'\n",
    "# i Want to change --------p ==========P\n",
    "#o/p:  'Python\n",
    "string1[0]='P'"
   ]
  },
  {
   "cell_type": "code",
   "execution_count": 51,
   "id": "4e4370da",
   "metadata": {},
   "outputs": [
    {
     "data": {
      "text/plain": [
       "[500, 200, 500]"
      ]
     },
     "execution_count": 51,
     "metadata": {},
     "output_type": "execute_result"
    }
   ],
   "source": [
    "list1=[100,200,500]\n",
    "list1[0]=500\n",
    "list1"
   ]
  },
  {
   "cell_type": "code",
   "execution_count": null,
   "id": "db43d906",
   "metadata": {},
   "outputs": [],
   "source": []
  },
  {
   "cell_type": "code",
   "execution_count": null,
   "id": "fd1c62ce",
   "metadata": {},
   "outputs": [],
   "source": [
    "slice funtion syntax\n",
    "string1=\"string string  string  string \"\n",
    "string1[start:end:direction]\n"
   ]
  },
  {
   "cell_type": "code",
   "execution_count": null,
   "id": "1da5ae1f",
   "metadata": {},
   "outputs": [],
   "source": [
    "Poitive direction\n",
    "\n",
    "h a i     h o w      a r e        y  o  u\n",
    "0 1 2  3  4 5 6  7   8 9 10  11  12 13  14"
   ]
  },
  {
   "cell_type": "code",
   "execution_count": 66,
   "id": "22a52f0c",
   "metadata": {},
   "outputs": [
    {
     "data": {
      "text/plain": [
       "'ai how are you'"
      ]
     },
     "execution_count": 66,
     "metadata": {},
     "output_type": "execute_result"
    }
   ],
   "source": [
    "string2='hai how are you'\n",
    "len(string2)\n",
    "string2[1-len(string2):len(string2)]               #Syntax 2,2+3=5,5+3=8"
   ]
  },
  {
   "cell_type": "code",
   "execution_count": 56,
   "id": "b80c0fdc",
   "metadata": {},
   "outputs": [
    {
     "data": {
      "text/plain": [
       "''"
      ]
     },
     "execution_count": 56,
     "metadata": {},
     "output_type": "execute_result"
    }
   ],
   "source": [
    "string2[2:10:-3]"
   ]
  },
  {
   "cell_type": "code",
   "execution_count": null,
   "id": "2c539288",
   "metadata": {},
   "outputs": [],
   "source": [
    "-15  -14   -13  -12  -11 -10 -9    -8  -7 - 6  -5   -4  -3 -2  -1\n",
    "h     a     i         h   o   w         a   r   e        y  o   u\n",
    "0     1     2    3    4   5   6     7   8   9   10  11  12  13  14"
   ]
  },
  {
   "cell_type": "code",
   "execution_count": 69,
   "id": "9d12ecd8",
   "metadata": {},
   "outputs": [],
   "source": [
    "string1=\"hai how are you\""
   ]
  },
  {
   "cell_type": "code",
   "execution_count": 71,
   "id": "213b8317",
   "metadata": {},
   "outputs": [
    {
     "data": {
      "text/plain": [
       "'o'"
      ]
     },
     "execution_count": 71,
     "metadata": {},
     "output_type": "execute_result"
    }
   ],
   "source": [
    "string1[-2:14:2]"
   ]
  },
  {
   "cell_type": "markdown",
   "id": "7713470f",
   "metadata": {},
   "source": [
    "-  reading methods\n",
    "- single/double/triple(doc string)\n",
    "- type\n",
    "- len\n",
    "- max\n",
    "- min\n",
    "- concatanation\n",
    "- substraction/multi/diov\n",
    "- in\n",
    "- index\n",
    " - mutable\n",
    "- slice\n",
    "\n",
    "\n",
    "**String Methods**"
   ]
  },
  {
   "cell_type": "code",
   "execution_count": 75,
   "id": "471cedcc",
   "metadata": {},
   "outputs": [
    {
     "data": {
      "text/plain": [
       "['__add__',\n",
       " '__class__',\n",
       " '__contains__',\n",
       " '__delattr__',\n",
       " '__dir__',\n",
       " '__doc__',\n",
       " '__eq__',\n",
       " '__format__',\n",
       " '__ge__',\n",
       " '__getattribute__',\n",
       " '__getitem__',\n",
       " '__getnewargs__',\n",
       " '__getstate__',\n",
       " '__gt__',\n",
       " '__hash__',\n",
       " '__init__',\n",
       " '__init_subclass__',\n",
       " '__iter__',\n",
       " '__le__',\n",
       " '__len__',\n",
       " '__lt__',\n",
       " '__mod__',\n",
       " '__mul__',\n",
       " '__ne__',\n",
       " '__new__',\n",
       " '__reduce__',\n",
       " '__reduce_ex__',\n",
       " '__repr__',\n",
       " '__rmod__',\n",
       " '__rmul__',\n",
       " '__setattr__',\n",
       " '__sizeof__',\n",
       " '__str__',\n",
       " '__subclasshook__',\n",
       " 'capitalize',\n",
       " 'casefold',\n",
       " 'center',\n",
       " 'count',\n",
       " 'encode',\n",
       " 'endswith',\n",
       " 'expandtabs',\n",
       " 'find',\n",
       " 'format',\n",
       " 'format_map',\n",
       " 'index',\n",
       " 'isalnum',\n",
       " 'isalpha',\n",
       " 'isascii',\n",
       " 'isdecimal',\n",
       " 'isdigit',\n",
       " 'isidentifier',\n",
       " 'islower',\n",
       " 'isnumeric',\n",
       " 'isprintable',\n",
       " 'isspace',\n",
       " 'istitle',\n",
       " 'isupper',\n",
       " 'join',\n",
       " 'ljust',\n",
       " 'lower',\n",
       " 'lstrip',\n",
       " 'maketrans',\n",
       " 'partition',\n",
       " 'removeprefix',\n",
       " 'removesuffix',\n",
       " 'replace',\n",
       " 'rfind',\n",
       " 'rindex',\n",
       " 'rjust',\n",
       " 'rpartition',\n",
       " 'rsplit',\n",
       " 'rstrip',\n",
       " 'split',\n",
       " 'splitlines',\n",
       " 'startswith',\n",
       " 'strip',\n",
       " 'swapcase',\n",
       " 'title',\n",
       " 'translate',\n",
       " 'upper',\n",
       " 'zfill']"
      ]
     },
     "execution_count": 75,
     "metadata": {},
     "output_type": "execute_result"
    }
   ],
   "source": [
    "dir('a')"
   ]
  },
  {
   "cell_type": "code",
   "execution_count": 76,
   "id": "a58aeeef",
   "metadata": {},
   "outputs": [
    {
     "name": "stdout",
     "output_type": "stream",
     "text": [
      "Help on built-in function capitalize:\n",
      "\n",
      "capitalize() method of builtins.str instance\n",
      "    Return a capitalized version of the string.\n",
      "    \n",
      "    More specifically, make the first character have upper case and the rest lower\n",
      "    case.\n",
      "\n"
     ]
    }
   ],
   "source": [
    "string1='welcome'\n",
    "help(string1.capitalize)"
   ]
  },
  {
   "cell_type": "code",
   "execution_count": 81,
   "id": "e5b056de",
   "metadata": {},
   "outputs": [
    {
     "data": {
      "text/plain": [
       "'Welcome'"
      ]
     },
     "execution_count": 81,
     "metadata": {},
     "output_type": "execute_result"
    }
   ],
   "source": [
    "b=string1.capitalize()   #With capitalize we can capotalize first letter\n",
    "b"
   ]
  },
  {
   "cell_type": "code",
   "execution_count": 82,
   "id": "17657394",
   "metadata": {},
   "outputs": [
    {
     "data": {
      "text/plain": [
       "'WELCOME'"
      ]
     },
     "execution_count": 82,
     "metadata": {},
     "output_type": "execute_result"
    }
   ],
   "source": [
    "c=string1.upper()       #upper capitalize the whole string\n",
    "c"
   ]
  },
  {
   "cell_type": "code",
   "execution_count": 89,
   "id": "41a0adc4",
   "metadata": {},
   "outputs": [],
   "source": [
    "d=c.lower()\n",
    "D='WELCOMe'"
   ]
  },
  {
   "cell_type": "code",
   "execution_count": 90,
   "id": "41ec2254",
   "metadata": {},
   "outputs": [
    {
     "data": {
      "text/plain": [
       "'welcome'"
      ]
     },
     "execution_count": 90,
     "metadata": {},
     "output_type": "execute_result"
    }
   ],
   "source": [
    "e=D.casefold()\n",
    "e"
   ]
  },
  {
   "cell_type": "code",
   "execution_count": 91,
   "id": "4365ff6b",
   "metadata": {},
   "outputs": [
    {
     "name": "stdout",
     "output_type": "stream",
     "text": [
      "Welcome to\n"
     ]
    }
   ],
   "source": [
    "string='welcome to'\n",
    "B=string.capitalize()\n",
    "print(B)"
   ]
  },
  {
   "cell_type": "code",
   "execution_count": 98,
   "id": "1c3d7591",
   "metadata": {},
   "outputs": [
    {
     "name": "stdout",
     "output_type": "stream",
     "text": [
      "we\n",
      "come\n"
     ]
    }
   ],
   "source": [
    "string='welcome'\n",
    "b =string[:2]\n",
    "c = string[3:]\n",
    "print(b)\n",
    "print(c)"
   ]
  },
  {
   "cell_type": "code",
   "execution_count": 99,
   "id": "66fa6c85",
   "metadata": {},
   "outputs": [
    {
     "data": {
      "text/plain": [
       "'weLcome'"
      ]
     },
     "execution_count": 99,
     "metadata": {},
     "output_type": "execute_result"
    }
   ],
   "source": [
    "b+'L'+c"
   ]
  },
  {
   "cell_type": "code",
   "execution_count": null,
   "id": "d2c25919",
   "metadata": {},
   "outputs": [],
   "source": []
  }
 ],
 "metadata": {
  "kernelspec": {
   "display_name": "Python 3 (ipykernel)",
   "language": "python",
   "name": "python3"
  },
  "language_info": {
   "codemirror_mode": {
    "name": "ipython",
    "version": 3
   },
   "file_extension": ".py",
   "mimetype": "text/x-python",
   "name": "python",
   "nbconvert_exporter": "python",
   "pygments_lexer": "ipython3",
   "version": "3.11.5"
  }
 },
 "nbformat": 4,
 "nbformat_minor": 5
}

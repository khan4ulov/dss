{
 "cells": [
  {
   "cell_type": "code",
   "execution_count": 5,
   "id": "c936fa37",
   "metadata": {},
   "outputs": [],
   "source": [
    "string1='hello \"python\"'"
   ]
  },
  {
   "cell_type": "code",
   "execution_count": 6,
   "id": "b8b10493",
   "metadata": {},
   "outputs": [
    {
     "name": "stdout",
     "output_type": "stream",
     "text": [
      "hello \"python\"\n"
     ]
    }
   ],
   "source": [
    "print(string1)"
   ]
  },
  {
   "cell_type": "code",
   "execution_count": 7,
   "id": "9719264a",
   "metadata": {},
   "outputs": [
    {
     "name": "stdout",
     "output_type": "stream",
     "text": [
      "Hello 'python'\n"
     ]
    }
   ],
   "source": [
    "string2=\"Hello 'python'\"\n",
    "print(string2)"
   ]
  },
  {
   "cell_type": "markdown",
   "id": "737a0474",
   "metadata": {},
   "source": [
    " - type     #type of data\n",
    " - len      #to find the length\n",
    " - max-min  #Maximum and minimum orchid \n",
    " - ord      #to convert in numbers\n",
    " - chr      # to comvert on ord\n",
    " "
   ]
  },
  {
   "cell_type": "code",
   "execution_count": 8,
   "id": "80a9b3ca",
   "metadata": {},
   "outputs": [
    {
     "data": {
      "text/plain": [
       "'y'"
      ]
     },
     "execution_count": 8,
     "metadata": {},
     "output_type": "execute_result"
    }
   ],
   "source": [
    "max(string2)"
   ]
  },
  {
   "cell_type": "code",
   "execution_count": 14,
   "id": "8d6248c3",
   "metadata": {},
   "outputs": [
    {
     "data": {
      "text/plain": [
       "14"
      ]
     },
     "execution_count": 14,
     "metadata": {},
     "output_type": "execute_result"
    }
   ],
   "source": [
    "len(string1)"
   ]
  },
  {
   "cell_type": "code",
   "execution_count": 15,
   "id": "e25ddcae",
   "metadata": {},
   "outputs": [
    {
     "name": "stdout",
     "output_type": "stream",
     "text": [
      "p\n",
      "y\n",
      "t\n",
      "h\n",
      "o\n",
      "n\n"
     ]
    }
   ],
   "source": [
    "string1 = 'python'\n",
    "# in operator\n",
    "for i in string1:\n",
    "    print(i)"
   ]
  },
  {
   "cell_type": "code",
   "execution_count": 18,
   "id": "f9e025ff",
   "metadata": {},
   "outputs": [
    {
     "name": "stdout",
     "output_type": "stream",
     "text": [
      "pytho"
     ]
    }
   ],
   "source": [
    "string1 = 'python'\n",
    "# in operator\n",
    "for i in string1:\n",
    "    print(i,end=\"\")\n",
    "    if i=='o':\n",
    "        break"
   ]
  },
  {
   "cell_type": "markdown",
   "id": "e9cb4e8a",
   "metadata": {},
   "source": [
    " - range() You need  to provide numbers inside the range\n",
    " - in operator is used for string"
   ]
  },
  {
   "cell_type": "code",
   "execution_count": 24,
   "id": "56978f8a",
   "metadata": {},
   "outputs": [
    {
     "name": "stdout",
     "output_type": "stream",
     "text": [
      "112, 121, 104, 116, 111, 110, "
     ]
    }
   ],
   "source": [
    "string1 = 'pyhton'\n",
    "for i in string1:\n",
    "    t=ord(i)\n",
    "    print(t,end=\", \")"
   ]
  },
  {
   "cell_type": "code",
   "execution_count": 25,
   "id": "0b7c24fc",
   "metadata": {},
   "outputs": [
    {
     "name": "stdout",
     "output_type": "stream",
     "text": [
      "The acsii value of p is 112\n",
      "The acsii value of y is 121\n",
      "The acsii value of h is 104\n",
      "The acsii value of t is 116\n",
      "The acsii value of o is 111\n",
      "The acsii value of n is 110\n"
     ]
    }
   ],
   "source": [
    "string1 = 'pyhton'\n",
    "for i in string1:\n",
    "    t=ord(i)\n",
    "    print(\"The acsii value of {} is {}\".format(i,t))"
   ]
  },
  {
   "cell_type": "code",
   "execution_count": 28,
   "id": "ec3fb72d",
   "metadata": {},
   "outputs": [
    {
     "name": "stdout",
     "output_type": "stream",
     "text": [
      "The ascii Value of a is 97 \n",
      "The ascii Value of b is 98 \n",
      "The ascii Value of c is 99 \n",
      "The ascii Value of d is 100 \n",
      "The ascii Value of e is 101 \n",
      "The ascii Value of f is 102 \n",
      "The ascii Value of g is 103 \n",
      "The ascii Value of h is 104 \n",
      "The ascii Value of i is 105 \n",
      "The ascii Value of j is 106 \n",
      "The ascii Value of k is 107 \n",
      "The ascii Value of l is 108 \n",
      "The ascii Value of m is 109 \n",
      "The ascii Value of n is 110 \n",
      "The ascii Value of o is 111 \n",
      "The ascii Value of p is 112 \n",
      "The ascii Value of q is 113 \n",
      "The ascii Value of r is 114 \n",
      "The ascii Value of s is 115 \n",
      "The ascii Value of t is 116 \n",
      "The ascii Value of u is 117 \n",
      "The ascii Value of v is 118 \n",
      "The ascii Value of w is 119 \n",
      "The ascii Value of x is 120 \n",
      "The ascii Value of y is 121 \n",
      "The ascii Value of z is 122 \n"
     ]
    }
   ],
   "source": [
    "alpha= \"abcdefghijklmnopqrstuvwxyz\"\n",
    "for i in alpha:\n",
    "    print((\"The ascii Value of {} is {} \".format(i,ord(i))))"
   ]
  },
  {
   "cell_type": "code",
   "execution_count": 30,
   "id": "c9fc810e",
   "metadata": {},
   "outputs": [],
   "source": [
    "import string"
   ]
  },
  {
   "cell_type": "code",
   "execution_count": 31,
   "id": "aa897199",
   "metadata": {},
   "outputs": [
    {
     "data": {
      "text/plain": [
       "['Formatter',\n",
       " 'Template',\n",
       " '_ChainMap',\n",
       " '__all__',\n",
       " '__builtins__',\n",
       " '__cached__',\n",
       " '__doc__',\n",
       " '__file__',\n",
       " '__loader__',\n",
       " '__name__',\n",
       " '__package__',\n",
       " '__spec__',\n",
       " '_re',\n",
       " '_sentinel_dict',\n",
       " '_string',\n",
       " 'ascii_letters',\n",
       " 'ascii_lowercase',\n",
       " 'ascii_uppercase',\n",
       " 'capwords',\n",
       " 'digits',\n",
       " 'hexdigits',\n",
       " 'octdigits',\n",
       " 'printable',\n",
       " 'punctuation',\n",
       " 'whitespace']"
      ]
     },
     "execution_count": 31,
     "metadata": {},
     "output_type": "execute_result"
    }
   ],
   "source": [
    "dir(string)"
   ]
  },
  {
   "cell_type": "code",
   "execution_count": 33,
   "id": "f2504947",
   "metadata": {},
   "outputs": [
    {
     "name": "stdout",
     "output_type": "stream",
     "text": [
      "The ascii Value of A is 65 \n",
      "The ascii Value of B is 66 \n",
      "The ascii Value of C is 67 \n",
      "The ascii Value of D is 68 \n",
      "The ascii Value of E is 69 \n",
      "The ascii Value of F is 70 \n",
      "The ascii Value of G is 71 \n",
      "The ascii Value of H is 72 \n",
      "The ascii Value of I is 73 \n",
      "The ascii Value of J is 74 \n",
      "The ascii Value of K is 75 \n",
      "The ascii Value of L is 76 \n",
      "The ascii Value of M is 77 \n",
      "The ascii Value of N is 78 \n",
      "The ascii Value of O is 79 \n",
      "The ascii Value of P is 80 \n",
      "The ascii Value of Q is 81 \n",
      "The ascii Value of R is 82 \n",
      "The ascii Value of S is 83 \n",
      "The ascii Value of T is 84 \n",
      "The ascii Value of U is 85 \n",
      "The ascii Value of V is 86 \n",
      "The ascii Value of W is 87 \n",
      "The ascii Value of X is 88 \n",
      "The ascii Value of Y is 89 \n",
      "The ascii Value of Z is 90 \n"
     ]
    }
   ],
   "source": [
    "x = string.ascii_uppercase\n",
    "for i in x:\n",
    "    print((\"The ascii Value of {} is {} \".format(i,ord(i))))"
   ]
  },
  {
   "cell_type": "code",
   "execution_count": 34,
   "id": "166785ec",
   "metadata": {},
   "outputs": [
    {
     "name": "stdout",
     "output_type": "stream",
     "text": [
      "The ascii Value of A is 65 \n",
      "The ascii Value of B is 66 \n",
      "The ascii Value of C is 67 \n",
      "The ascii Value of D is 68 \n",
      "The ascii Value of E is 69 \n",
      "The ascii Value of F is 70 \n",
      "The ascii Value of G is 71 \n",
      "The ascii Value of H is 72 \n",
      "The ascii Value of I is 73 \n",
      "The ascii Value of J is 74 \n",
      "The ascii Value of K is 75 \n",
      "The ascii Value of L is 76 \n",
      "The ascii Value of M is 77 \n",
      "The ascii Value of N is 78 \n",
      "The ascii Value of O is 79 \n",
      "The ascii Value of P is 80 \n",
      "The ascii Value of Q is 81 \n",
      "The ascii Value of R is 82 \n",
      "The ascii Value of S is 83 \n",
      "The ascii Value of T is 84 \n",
      "The ascii Value of U is 85 \n",
      "The ascii Value of V is 86 \n",
      "The ascii Value of W is 87 \n",
      "The ascii Value of X is 88 \n",
      "The ascii Value of Y is 89 \n",
      "The ascii Value of Z is 90 \n"
     ]
    }
   ],
   "source": [
    "y = string.ascii_lowercase\n",
    "for i in x:\n",
    "    print((\"The ascii Value of {} is {} \".format(i,ord(i))))"
   ]
  },
  {
   "cell_type": "code",
   "execution_count": 35,
   "id": "fad013e9",
   "metadata": {},
   "outputs": [
    {
     "name": "stdout",
     "output_type": "stream",
     "text": [
      "The ascii Value of a is 97 \n",
      "The ascii Value of b is 98 \n",
      "The ascii Value of c is 99 \n",
      "The ascii Value of d is 100 \n",
      "The ascii Value of e is 101 \n",
      "The ascii Value of f is 102 \n",
      "The ascii Value of g is 103 \n",
      "The ascii Value of h is 104 \n",
      "The ascii Value of i is 105 \n",
      "The ascii Value of j is 106 \n",
      "The ascii Value of k is 107 \n",
      "The ascii Value of l is 108 \n",
      "The ascii Value of m is 109 \n",
      "The ascii Value of n is 110 \n",
      "The ascii Value of o is 111 \n",
      "The ascii Value of p is 112 \n",
      "The ascii Value of q is 113 \n",
      "The ascii Value of r is 114 \n",
      "The ascii Value of s is 115 \n",
      "The ascii Value of t is 116 \n",
      "The ascii Value of u is 117 \n",
      "The ascii Value of v is 118 \n",
      "The ascii Value of w is 119 \n",
      "The ascii Value of x is 120 \n",
      "The ascii Value of y is 121 \n",
      "The ascii Value of z is 122 \n",
      "The ascii Value of A is 65 \n",
      "The ascii Value of B is 66 \n",
      "The ascii Value of C is 67 \n",
      "The ascii Value of D is 68 \n",
      "The ascii Value of E is 69 \n",
      "The ascii Value of F is 70 \n",
      "The ascii Value of G is 71 \n",
      "The ascii Value of H is 72 \n",
      "The ascii Value of I is 73 \n",
      "The ascii Value of J is 74 \n",
      "The ascii Value of K is 75 \n",
      "The ascii Value of L is 76 \n",
      "The ascii Value of M is 77 \n",
      "The ascii Value of N is 78 \n",
      "The ascii Value of O is 79 \n",
      "The ascii Value of P is 80 \n",
      "The ascii Value of Q is 81 \n",
      "The ascii Value of R is 82 \n",
      "The ascii Value of S is 83 \n",
      "The ascii Value of T is 84 \n",
      "The ascii Value of U is 85 \n",
      "The ascii Value of V is 86 \n",
      "The ascii Value of W is 87 \n",
      "The ascii Value of X is 88 \n",
      "The ascii Value of Y is 89 \n",
      "The ascii Value of Z is 90 \n"
     ]
    }
   ],
   "source": [
    "x = string.ascii_letters\n",
    "for i in x:\n",
    "    print((\"The ascii Value of {} is {} \".format(i,ord(i))))"
   ]
  },
  {
   "cell_type": "code",
   "execution_count": 37,
   "id": "f431baaa",
   "metadata": {},
   "outputs": [
    {
     "name": "stdout",
     "output_type": "stream",
     "text": [
      "The ascii Value of ! is 33 \n",
      "The ascii Value of \" is 34 \n",
      "The ascii Value of # is 35 \n",
      "The ascii Value of $ is 36 \n",
      "The ascii Value of % is 37 \n",
      "The ascii Value of & is 38 \n",
      "The ascii Value of ' is 39 \n",
      "The ascii Value of ( is 40 \n",
      "The ascii Value of ) is 41 \n",
      "The ascii Value of * is 42 \n",
      "The ascii Value of + is 43 \n",
      "The ascii Value of , is 44 \n",
      "The ascii Value of - is 45 \n",
      "The ascii Value of . is 46 \n",
      "The ascii Value of / is 47 \n",
      "The ascii Value of : is 58 \n",
      "The ascii Value of ; is 59 \n",
      "The ascii Value of < is 60 \n",
      "The ascii Value of = is 61 \n",
      "The ascii Value of > is 62 \n",
      "The ascii Value of ? is 63 \n",
      "The ascii Value of @ is 64 \n",
      "The ascii Value of [ is 91 \n",
      "The ascii Value of \\ is 92 \n",
      "The ascii Value of ] is 93 \n",
      "The ascii Value of ^ is 94 \n",
      "The ascii Value of _ is 95 \n",
      "The ascii Value of ` is 96 \n",
      "The ascii Value of { is 123 \n",
      "The ascii Value of | is 124 \n",
      "The ascii Value of } is 125 \n",
      "The ascii Value of ~ is 126 \n"
     ]
    }
   ],
   "source": [
    "for i in string.punctuation:\n",
    "    print((\"The ascii Value of {} is {} \".format(i,ord(i))))"
   ]
  },
  {
   "cell_type": "code",
   "execution_count": 44,
   "id": "58775fc3",
   "metadata": {},
   "outputs": [
    {
     "data": {
      "text/plain": [
       "'\\x1f'"
      ]
     },
     "execution_count": 44,
     "metadata": {},
     "output_type": "execute_result"
    }
   ],
   "source": [
    "chr(31)"
   ]
  },
  {
   "cell_type": "code",
   "execution_count": 47,
   "id": "b12a4605",
   "metadata": {},
   "outputs": [
    {
     "name": "stdout",
     "output_type": "stream",
     "text": [
      "1 \u0001, 2 \u0002, 3 \u0003, 4 \u0004, 5 \u0005, 6 \u0006, 7 \u0007, 8 \b, 9 \t, 10 \n",
      ", 11 \u000b",
      ", 12 \f",
      ", 13 \r",
      ", 14 \u000e, 15 \u000f, 16 \u0010, 17 \u0011, 18 \u0012, 19 \u0013, 20 \u0014, 21 \u0015, 22 \u0016, 23 \u0017, 24 \u0018, 25 \u0019, 26 \u001a, 27 \u001b, 28 \u001c",
      ", 29 \u001d",
      ", 30 \u001e",
      ", 31 \u001f, 32  , 33 !, 34 \", 35 #, 36 $, 37 %, 38 &, 39 ', 40 (, 41 ), 42 *, 43 +, 44 ,, 45 -, 46 ., 47 /, 48 0, 49 1, 50 2, 51 3, 52 4, 53 5, 54 6, 55 7, 56 8, 57 9, 58 :, 59 ;, 60 <, 61 =, 62 >, 63 ?, 64 @, 65 A, 66 B, 67 C, 68 D, 69 E, 70 F, 71 G, 72 H, 73 I, 74 J, 75 K, 76 L, 77 M, 78 N, 79 O, 80 P, 81 Q, 82 R, 83 S, 84 T, 85 U, 86 V, 87 W, 88 X, 89 Y, 90 Z, 91 [, 92 \\, 93 ], 94 ^, 95 _, 96 `, 97 a, 98 b, 99 c, "
     ]
    }
   ],
   "source": [
    "for i in range(1,100):\n",
    "    print(i,chr(i),end=\", \")"
   ]
  },
  {
   "cell_type": "markdown",
   "id": "afc726df",
   "metadata": {},
   "source": [
    "p"
   ]
  },
  {
   "cell_type": "code",
   "execution_count": 52,
   "id": "e7ee9471",
   "metadata": {},
   "outputs": [
    {
     "data": {
      "text/plain": [
       "'0123456789abcdefghijklmnopqrstuvwxyzABCDEFGHIJKLMNOPQRSTUVWXYZ!\"#$%&\\'()*+,-./:;<=>?@[\\\\]^_`{|}~ \\t\\n\\r\\x0b\\x0c'"
      ]
     },
     "execution_count": 52,
     "metadata": {},
     "output_type": "execute_result"
    }
   ],
   "source": [
    "string.printable"
   ]
  },
  {
   "cell_type": "code",
   "execution_count": 63,
   "id": "76f7d1fa",
   "metadata": {},
   "outputs": [
    {
     "name": "stdout",
     "output_type": "stream",
     "text": [
      "hai how are you and how do you do\n",
      " 3\n"
     ]
    }
   ],
   "source": [
    "#WAP ask the user find number of 'a' letters in given string\n",
    "strin = 'hai how are you and how do you do'\n",
    "count = 0\n",
    "for i in strin:\n",
    "    print(i,end=\"\")\n",
    "    if i == 'a': \n",
    "        count=count+1\n",
    "print('\\n', count)"
   ]
  },
  {
   "cell_type": "code",
   "execution_count": 66,
   "id": "7a89cd18",
   "metadata": {},
   "outputs": [
    {
     "name": "stdout",
     "output_type": "stream",
     "text": [
      "hai how are you\n",
      "no of vowl in given string : 7\n"
     ]
    }
   ],
   "source": [
    "#WAP count the number of vowel in given string\n",
    "string1='hai how are you'\n",
    "count1 = 0\n",
    "for i in string1:\n",
    "    print(i,end=\"\")\n",
    "    if i=='a' or i=='e' or i=='i' or i=='o' or i=='u':\n",
    "        count1=count1+1\n",
    "print(\"\\nno of vowl in given string :\",count1)"
   ]
  },
  {
   "cell_type": "code",
   "execution_count": 67,
   "id": "c5d853c0",
   "metadata": {},
   "outputs": [
    {
     "name": "stdout",
     "output_type": "stream",
     "text": [
      "\n",
      "no of vowl in given string : 7\n"
     ]
    }
   ],
   "source": [
    "string1='hai how are you'\n",
    "cnt=0\n",
    "for i in string1:\n",
    "    if i in 'aeiou':\n",
    "        cnt+=1\n",
    "print(\"\\nno of vowl in given string :\",cnt)"
   ]
  },
  {
   "cell_type": "code",
   "execution_count": null,
   "id": "5c9f04d1",
   "metadata": {},
   "outputs": [],
   "source": [
    "string=''\n",
    "str1=''\n",
    "count=0\n",
    "for i in "
   ]
  },
  {
   "cell_type": "code",
   "execution_count": null,
   "id": "058c5321",
   "metadata": {},
   "outputs": [],
   "source": [
    "#WAP count the number of unique vowel in string1\n",
    "#Coutn how many vowel\n",
    "#count unique vowel\n",
    "count=0\n",
    "string1='hai how are you'\n",
    "string2=''\n",
    "for i in string1:\n",
    "    if i in 'aeiou':\n",
    "        count=count+1\n",
    "        if i in "
   ]
  },
  {
   "cell_type": "code",
   "execution_count": 75,
   "id": "06844252",
   "metadata": {},
   "outputs": [],
   "source": [
    "str1=\"hai\"\n",
    "str2='how'"
   ]
  },
  {
   "cell_type": "code",
   "execution_count": 70,
   "id": "58bb8380",
   "metadata": {},
   "outputs": [
    {
     "ename": "TypeError",
     "evalue": "unsupported operand type(s) for /: 'str' and 'str'",
     "output_type": "error",
     "traceback": [
      "\u001b[1;31m---------------------------------------------------------------------------\u001b[0m",
      "\u001b[1;31mTypeError\u001b[0m                                 Traceback (most recent call last)",
      "Cell \u001b[1;32mIn[70], line 1\u001b[0m\n\u001b[1;32m----> 1\u001b[0m str1\u001b[38;5;241m/\u001b[39mstr2\n",
      "\u001b[1;31mTypeError\u001b[0m: unsupported operand type(s) for /: 'str' and 'str'"
     ]
    }
   ],
   "source": [
    "str1/str2"
   ]
  },
  {
   "cell_type": "code",
   "execution_count": 71,
   "id": "09a0b06e",
   "metadata": {},
   "outputs": [
    {
     "ename": "TypeError",
     "evalue": "unsupported operand type(s) for -: 'str' and 'str'",
     "output_type": "error",
     "traceback": [
      "\u001b[1;31m---------------------------------------------------------------------------\u001b[0m",
      "\u001b[1;31mTypeError\u001b[0m                                 Traceback (most recent call last)",
      "Cell \u001b[1;32mIn[71], line 1\u001b[0m\n\u001b[1;32m----> 1\u001b[0m str1\u001b[38;5;241m-\u001b[39mstr2\n",
      "\u001b[1;31mTypeError\u001b[0m: unsupported operand type(s) for -: 'str' and 'str'"
     ]
    }
   ],
   "source": [
    "str1-str2"
   ]
  },
  {
   "cell_type": "code",
   "execution_count": 72,
   "id": "77886add",
   "metadata": {},
   "outputs": [
    {
     "ename": "TypeError",
     "evalue": "can't multiply sequence by non-int of type 'str'",
     "output_type": "error",
     "traceback": [
      "\u001b[1;31m---------------------------------------------------------------------------\u001b[0m",
      "\u001b[1;31mTypeError\u001b[0m                                 Traceback (most recent call last)",
      "Cell \u001b[1;32mIn[72], line 1\u001b[0m\n\u001b[1;32m----> 1\u001b[0m str1\u001b[38;5;241m*\u001b[39mstr2\n",
      "\u001b[1;31mTypeError\u001b[0m: can't multiply sequence by non-int of type 'str'"
     ]
    }
   ],
   "source": [
    "str1*str2"
   ]
  },
  {
   "cell_type": "code",
   "execution_count": 73,
   "id": "2e63d1aa",
   "metadata": {},
   "outputs": [],
   "source": []
  },
  {
   "cell_type": "code",
   "execution_count": 74,
   "id": "fc64c491",
   "metadata": {},
   "outputs": [
    {
     "ename": "TypeError",
     "evalue": "can't multiply sequence by non-int of type 'str'",
     "output_type": "error",
     "traceback": [
      "\u001b[1;31m---------------------------------------------------------------------------\u001b[0m",
      "\u001b[1;31mTypeError\u001b[0m                                 Traceback (most recent call last)",
      "Cell \u001b[1;32mIn[74], line 1\u001b[0m\n\u001b[1;32m----> 1\u001b[0m str1\u001b[38;5;241m*\u001b[39mstr2\n",
      "\u001b[1;31mTypeError\u001b[0m: can't multiply sequence by non-int of type 'str'"
     ]
    }
   ],
   "source": [
    "str1*str2"
   ]
  },
  {
   "cell_type": "code",
   "execution_count": 81,
   "id": "dbae6f30",
   "metadata": {},
   "outputs": [
    {
     "name": "stdout",
     "output_type": "stream",
     "text": [
      "haihaihai\n"
     ]
    }
   ],
   "source": [
    "print(3*str1)"
   ]
  },
  {
   "cell_type": "markdown",
   "id": "67dc6f6e",
   "metadata": {},
   "source": [
    "### Index operator"
   ]
  },
  {
   "cell_type": "code",
   "execution_count": 82,
   "id": "25ecda1c",
   "metadata": {},
   "outputs": [],
   "source": [
    "string='python'"
   ]
  },
  {
   "cell_type": "code",
   "execution_count": null,
   "id": "1fbe0d05",
   "metadata": {},
   "outputs": [],
   "source": [
    "p  y  t  h  o  n\n",
    "0  1  2  3  4  5"
   ]
  },
  {
   "cell_type": "code",
   "execution_count": null,
   "id": "4a869b73",
   "metadata": {},
   "outputs": [],
   "source": [
    "string1[0],string[1],string[2],string[3],string[4],string[5]"
   ]
  },
  {
   "cell_type": "code",
   "execution_count": 85,
   "id": "91ea2733",
   "metadata": {},
   "outputs": [
    {
     "name": "stdout",
     "output_type": "stream",
     "text": [
      "python"
     ]
    }
   ],
   "source": [
    "for i in range(len(string)):\n",
    "    print(string[i],end=\"\")"
   ]
  },
  {
   "cell_type": "code",
   "execution_count": null,
   "id": "79853c3a",
   "metadata": {},
   "outputs": [],
   "source": [
    "string1='python'\n",
    "print letter using in operator\n",
    "print using range operator"
   ]
  },
  {
   "cell_type": "code",
   "execution_count": 86,
   "id": "8c707178",
   "metadata": {},
   "outputs": [
    {
     "name": "stdout",
     "output_type": "stream",
     "text": [
      "python"
     ]
    }
   ],
   "source": [
    "string1=\"python\"\n",
    "for i in string1:\n",
    "    print(i,end=\"\")"
   ]
  },
  {
   "cell_type": "code",
   "execution_count": 88,
   "id": "8594e8fe",
   "metadata": {},
   "outputs": [
    {
     "name": "stdout",
     "output_type": "stream",
     "text": [
      "python"
     ]
    }
   ],
   "source": [
    "string1='python'\n",
    "for i in range(len(string1)):\n",
    "    print(string[i],end=\"\")"
   ]
  },
  {
   "cell_type": "code",
   "execution_count": 90,
   "id": "d2837c3b",
   "metadata": {},
   "outputs": [
    {
     "name": "stdout",
     "output_type": "stream",
     "text": [
      "p\n",
      "1\n",
      "y\n",
      "1\n",
      "t\n",
      "1\n",
      "h\n",
      "1\n",
      "o\n",
      "1\n",
      "n\n",
      "1\n"
     ]
    }
   ],
   "source": [
    "string1=\"python\"\n",
    "for i in string1:\n",
    "    print(i)\n",
    "    print(len(i))\n",
    "    "
   ]
  },
  {
   "cell_type": "code",
   "execution_count": null,
   "id": "834a1562",
   "metadata": {},
   "outputs": [],
   "source": []
  },
  {
   "cell_type": "code",
   "execution_count": null,
   "id": "db20d73f",
   "metadata": {},
   "outputs": [],
   "source": []
  },
  {
   "cell_type": "code",
   "execution_count": null,
   "id": "8d1deea3",
   "metadata": {},
   "outputs": [],
   "source": []
  },
  {
   "cell_type": "code",
   "execution_count": null,
   "id": "b2e8cfe8",
   "metadata": {},
   "outputs": [],
   "source": []
  }
 ],
 "metadata": {
  "kernelspec": {
   "display_name": "Python 3 (ipykernel)",
   "language": "python",
   "name": "python3"
  },
  "language_info": {
   "codemirror_mode": {
    "name": "ipython",
    "version": 3
   },
   "file_extension": ".py",
   "mimetype": "text/x-python",
   "name": "python",
   "nbconvert_exporter": "python",
   "pygments_lexer": "ipython3",
   "version": "3.11.5"
  }
 },
 "nbformat": 4,
 "nbformat_minor": 5
}
